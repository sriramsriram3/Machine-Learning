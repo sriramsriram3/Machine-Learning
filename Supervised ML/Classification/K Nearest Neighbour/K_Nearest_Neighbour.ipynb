{
  "nbformat": 4,
  "nbformat_minor": 0,
  "metadata": {
    "colab": {
      "provenance": []
    },
    "kernelspec": {
      "name": "python3",
      "display_name": "Python 3"
    },
    "language_info": {
      "name": "python"
    }
  },
  "cells": [
    {
      "cell_type": "markdown",
      "source": [
        "# **#   K nearest Neighbour Classifier**"
      ],
      "metadata": {
        "id": "3edSSMToClHz"
      }
    },
    {
      "cell_type": "code",
      "execution_count": null,
      "metadata": {
        "id": "tdyDxbvdCgwX"
      },
      "outputs": [],
      "source": [
        "import numpy as np\n",
        "import pandas as pd\n",
        "import matplotlib.pyplot as plt\n",
        "import seaborn as sns\n",
        "%matplotlib inline"
      ]
    },
    {
      "cell_type": "code",
      "source": [
        "from sklearn.datasets import make_classification\n",
        "X,y=make_classification(n_samples=1000,n_features=9,n_clusters_per_class=1,n_classes=4,shuffle=True,random_state=18)\n",
        "X.shape,y.shape"
      ],
      "metadata": {
        "colab": {
          "base_uri": "https://localhost:8080/"
        },
        "id": "wuoxuQhNDgz1",
        "outputId": "c05ada9e-3696-42eb-b80b-7030a9c6a7e0"
      },
      "execution_count": null,
      "outputs": [
        {
          "output_type": "execute_result",
          "data": {
            "text/plain": [
              "((1000, 9), (1000,))"
            ]
          },
          "metadata": {},
          "execution_count": 7
        }
      ]
    },
    {
      "cell_type": "code",
      "source": [
        "X"
      ],
      "metadata": {
        "colab": {
          "base_uri": "https://localhost:8080/"
        },
        "id": "vp8ooIcvEumI",
        "outputId": "f057cae0-ec07-43c2-d527-8204b67d8081"
      },
      "execution_count": null,
      "outputs": [
        {
          "output_type": "execute_result",
          "data": {
            "text/plain": [
              "array([[-2.12445174,  3.45684651, -0.61257842, ..., -0.90119516,\n",
              "         1.47270092,  1.96704426],\n",
              "       [-0.3408915 ,  2.39909437,  1.91496284, ..., -0.40842375,\n",
              "         1.52532508,  0.4033813 ],\n",
              "       [ 0.10344515,  1.1398442 , -0.61091699, ...,  0.73538688,\n",
              "         0.41752224, -0.89463637],\n",
              "       ...,\n",
              "       [ 1.89629444, -0.86776394,  0.64531   , ..., -1.03259641,\n",
              "        -0.49802359, -0.90676141],\n",
              "       [ 0.80231089, -0.07360826,  0.77562161, ...,  0.85320037,\n",
              "        -0.03762683,  1.29338812],\n",
              "       [ 0.29755481,  1.92576213,  0.72459311, ..., -1.49116984,\n",
              "        -0.82282647,  0.91052663]])"
            ]
          },
          "metadata": {},
          "execution_count": 8
        }
      ]
    },
    {
      "cell_type": "code",
      "source": [
        "df=pd.DataFrame(X)\n",
        "df.head()"
      ],
      "metadata": {
        "colab": {
          "base_uri": "https://localhost:8080/",
          "height": 206
        },
        "id": "kwfOFhJ4ET12",
        "outputId": "c9e3ab6b-5bd8-4c80-fb1c-de2b25a3b2ad"
      },
      "execution_count": null,
      "outputs": [
        {
          "output_type": "execute_result",
          "data": {
            "text/plain": [
              "          0         1         2         3         4         5         6  \\\n",
              "0 -2.124452  3.456847 -0.612578  0.274257 -0.409280  0.592490 -0.901195   \n",
              "1 -0.340891  2.399094  1.914963 -0.031204 -0.748271  0.302072 -0.408424   \n",
              "2  0.103445  1.139844 -0.610917  0.183787 -1.020323 -0.571431  0.735387   \n",
              "3 -1.577797 -0.922889 -0.137094  0.990908  2.193088 -1.726596  2.092009   \n",
              "4 -1.152436 -0.523482  0.075648 -0.125753 -1.327092  1.076970 -1.451814   \n",
              "\n",
              "          7         8  \n",
              "0  1.472701  1.967044  \n",
              "1  1.525325  0.403381  \n",
              "2  0.417522 -0.894636  \n",
              "3 -0.389772 -0.882008  \n",
              "4  0.029433 -0.949928  "
            ],
            "text/html": [
              "\n",
              "  <div id=\"df-bb8adc8b-62fb-483c-afa6-f7f59884c7a7\" class=\"colab-df-container\">\n",
              "    <div>\n",
              "<style scoped>\n",
              "    .dataframe tbody tr th:only-of-type {\n",
              "        vertical-align: middle;\n",
              "    }\n",
              "\n",
              "    .dataframe tbody tr th {\n",
              "        vertical-align: top;\n",
              "    }\n",
              "\n",
              "    .dataframe thead th {\n",
              "        text-align: right;\n",
              "    }\n",
              "</style>\n",
              "<table border=\"1\" class=\"dataframe\">\n",
              "  <thead>\n",
              "    <tr style=\"text-align: right;\">\n",
              "      <th></th>\n",
              "      <th>0</th>\n",
              "      <th>1</th>\n",
              "      <th>2</th>\n",
              "      <th>3</th>\n",
              "      <th>4</th>\n",
              "      <th>5</th>\n",
              "      <th>6</th>\n",
              "      <th>7</th>\n",
              "      <th>8</th>\n",
              "    </tr>\n",
              "  </thead>\n",
              "  <tbody>\n",
              "    <tr>\n",
              "      <th>0</th>\n",
              "      <td>-2.124452</td>\n",
              "      <td>3.456847</td>\n",
              "      <td>-0.612578</td>\n",
              "      <td>0.274257</td>\n",
              "      <td>-0.409280</td>\n",
              "      <td>0.592490</td>\n",
              "      <td>-0.901195</td>\n",
              "      <td>1.472701</td>\n",
              "      <td>1.967044</td>\n",
              "    </tr>\n",
              "    <tr>\n",
              "      <th>1</th>\n",
              "      <td>-0.340891</td>\n",
              "      <td>2.399094</td>\n",
              "      <td>1.914963</td>\n",
              "      <td>-0.031204</td>\n",
              "      <td>-0.748271</td>\n",
              "      <td>0.302072</td>\n",
              "      <td>-0.408424</td>\n",
              "      <td>1.525325</td>\n",
              "      <td>0.403381</td>\n",
              "    </tr>\n",
              "    <tr>\n",
              "      <th>2</th>\n",
              "      <td>0.103445</td>\n",
              "      <td>1.139844</td>\n",
              "      <td>-0.610917</td>\n",
              "      <td>0.183787</td>\n",
              "      <td>-1.020323</td>\n",
              "      <td>-0.571431</td>\n",
              "      <td>0.735387</td>\n",
              "      <td>0.417522</td>\n",
              "      <td>-0.894636</td>\n",
              "    </tr>\n",
              "    <tr>\n",
              "      <th>3</th>\n",
              "      <td>-1.577797</td>\n",
              "      <td>-0.922889</td>\n",
              "      <td>-0.137094</td>\n",
              "      <td>0.990908</td>\n",
              "      <td>2.193088</td>\n",
              "      <td>-1.726596</td>\n",
              "      <td>2.092009</td>\n",
              "      <td>-0.389772</td>\n",
              "      <td>-0.882008</td>\n",
              "    </tr>\n",
              "    <tr>\n",
              "      <th>4</th>\n",
              "      <td>-1.152436</td>\n",
              "      <td>-0.523482</td>\n",
              "      <td>0.075648</td>\n",
              "      <td>-0.125753</td>\n",
              "      <td>-1.327092</td>\n",
              "      <td>1.076970</td>\n",
              "      <td>-1.451814</td>\n",
              "      <td>0.029433</td>\n",
              "      <td>-0.949928</td>\n",
              "    </tr>\n",
              "  </tbody>\n",
              "</table>\n",
              "</div>\n",
              "    <div class=\"colab-df-buttons\">\n",
              "\n",
              "  <div class=\"colab-df-container\">\n",
              "    <button class=\"colab-df-convert\" onclick=\"convertToInteractive('df-bb8adc8b-62fb-483c-afa6-f7f59884c7a7')\"\n",
              "            title=\"Convert this dataframe to an interactive table.\"\n",
              "            style=\"display:none;\">\n",
              "\n",
              "  <svg xmlns=\"http://www.w3.org/2000/svg\" height=\"24px\" viewBox=\"0 -960 960 960\">\n",
              "    <path d=\"M120-120v-720h720v720H120Zm60-500h600v-160H180v160Zm220 220h160v-160H400v160Zm0 220h160v-160H400v160ZM180-400h160v-160H180v160Zm440 0h160v-160H620v160ZM180-180h160v-160H180v160Zm440 0h160v-160H620v160Z\"/>\n",
              "  </svg>\n",
              "    </button>\n",
              "\n",
              "  <style>\n",
              "    .colab-df-container {\n",
              "      display:flex;\n",
              "      gap: 12px;\n",
              "    }\n",
              "\n",
              "    .colab-df-convert {\n",
              "      background-color: #E8F0FE;\n",
              "      border: none;\n",
              "      border-radius: 50%;\n",
              "      cursor: pointer;\n",
              "      display: none;\n",
              "      fill: #1967D2;\n",
              "      height: 32px;\n",
              "      padding: 0 0 0 0;\n",
              "      width: 32px;\n",
              "    }\n",
              "\n",
              "    .colab-df-convert:hover {\n",
              "      background-color: #E2EBFA;\n",
              "      box-shadow: 0px 1px 2px rgba(60, 64, 67, 0.3), 0px 1px 3px 1px rgba(60, 64, 67, 0.15);\n",
              "      fill: #174EA6;\n",
              "    }\n",
              "\n",
              "    .colab-df-buttons div {\n",
              "      margin-bottom: 4px;\n",
              "    }\n",
              "\n",
              "    [theme=dark] .colab-df-convert {\n",
              "      background-color: #3B4455;\n",
              "      fill: #D2E3FC;\n",
              "    }\n",
              "\n",
              "    [theme=dark] .colab-df-convert:hover {\n",
              "      background-color: #434B5C;\n",
              "      box-shadow: 0px 1px 3px 1px rgba(0, 0, 0, 0.15);\n",
              "      filter: drop-shadow(0px 1px 2px rgba(0, 0, 0, 0.3));\n",
              "      fill: #FFFFFF;\n",
              "    }\n",
              "  </style>\n",
              "\n",
              "    <script>\n",
              "      const buttonEl =\n",
              "        document.querySelector('#df-bb8adc8b-62fb-483c-afa6-f7f59884c7a7 button.colab-df-convert');\n",
              "      buttonEl.style.display =\n",
              "        google.colab.kernel.accessAllowed ? 'block' : 'none';\n",
              "\n",
              "      async function convertToInteractive(key) {\n",
              "        const element = document.querySelector('#df-bb8adc8b-62fb-483c-afa6-f7f59884c7a7');\n",
              "        const dataTable =\n",
              "          await google.colab.kernel.invokeFunction('convertToInteractive',\n",
              "                                                    [key], {});\n",
              "        if (!dataTable) return;\n",
              "\n",
              "        const docLinkHtml = 'Like what you see? Visit the ' +\n",
              "          '<a target=\"_blank\" href=https://colab.research.google.com/notebooks/data_table.ipynb>data table notebook</a>'\n",
              "          + ' to learn more about interactive tables.';\n",
              "        element.innerHTML = '';\n",
              "        dataTable['output_type'] = 'display_data';\n",
              "        await google.colab.output.renderOutput(dataTable, element);\n",
              "        const docLink = document.createElement('div');\n",
              "        docLink.innerHTML = docLinkHtml;\n",
              "        element.appendChild(docLink);\n",
              "      }\n",
              "    </script>\n",
              "  </div>\n",
              "\n",
              "\n",
              "<div id=\"df-b1e3cbe9-536d-4e09-aa3d-bbab68ef4081\">\n",
              "  <button class=\"colab-df-quickchart\" onclick=\"quickchart('df-b1e3cbe9-536d-4e09-aa3d-bbab68ef4081')\"\n",
              "            title=\"Suggest charts\"\n",
              "            style=\"display:none;\">\n",
              "\n",
              "<svg xmlns=\"http://www.w3.org/2000/svg\" height=\"24px\"viewBox=\"0 0 24 24\"\n",
              "     width=\"24px\">\n",
              "    <g>\n",
              "        <path d=\"M19 3H5c-1.1 0-2 .9-2 2v14c0 1.1.9 2 2 2h14c1.1 0 2-.9 2-2V5c0-1.1-.9-2-2-2zM9 17H7v-7h2v7zm4 0h-2V7h2v10zm4 0h-2v-4h2v4z\"/>\n",
              "    </g>\n",
              "</svg>\n",
              "  </button>\n",
              "\n",
              "<style>\n",
              "  .colab-df-quickchart {\n",
              "      --bg-color: #E8F0FE;\n",
              "      --fill-color: #1967D2;\n",
              "      --hover-bg-color: #E2EBFA;\n",
              "      --hover-fill-color: #174EA6;\n",
              "      --disabled-fill-color: #AAA;\n",
              "      --disabled-bg-color: #DDD;\n",
              "  }\n",
              "\n",
              "  [theme=dark] .colab-df-quickchart {\n",
              "      --bg-color: #3B4455;\n",
              "      --fill-color: #D2E3FC;\n",
              "      --hover-bg-color: #434B5C;\n",
              "      --hover-fill-color: #FFFFFF;\n",
              "      --disabled-bg-color: #3B4455;\n",
              "      --disabled-fill-color: #666;\n",
              "  }\n",
              "\n",
              "  .colab-df-quickchart {\n",
              "    background-color: var(--bg-color);\n",
              "    border: none;\n",
              "    border-radius: 50%;\n",
              "    cursor: pointer;\n",
              "    display: none;\n",
              "    fill: var(--fill-color);\n",
              "    height: 32px;\n",
              "    padding: 0;\n",
              "    width: 32px;\n",
              "  }\n",
              "\n",
              "  .colab-df-quickchart:hover {\n",
              "    background-color: var(--hover-bg-color);\n",
              "    box-shadow: 0 1px 2px rgba(60, 64, 67, 0.3), 0 1px 3px 1px rgba(60, 64, 67, 0.15);\n",
              "    fill: var(--button-hover-fill-color);\n",
              "  }\n",
              "\n",
              "  .colab-df-quickchart-complete:disabled,\n",
              "  .colab-df-quickchart-complete:disabled:hover {\n",
              "    background-color: var(--disabled-bg-color);\n",
              "    fill: var(--disabled-fill-color);\n",
              "    box-shadow: none;\n",
              "  }\n",
              "\n",
              "  .colab-df-spinner {\n",
              "    border: 2px solid var(--fill-color);\n",
              "    border-color: transparent;\n",
              "    border-bottom-color: var(--fill-color);\n",
              "    animation:\n",
              "      spin 1s steps(1) infinite;\n",
              "  }\n",
              "\n",
              "  @keyframes spin {\n",
              "    0% {\n",
              "      border-color: transparent;\n",
              "      border-bottom-color: var(--fill-color);\n",
              "      border-left-color: var(--fill-color);\n",
              "    }\n",
              "    20% {\n",
              "      border-color: transparent;\n",
              "      border-left-color: var(--fill-color);\n",
              "      border-top-color: var(--fill-color);\n",
              "    }\n",
              "    30% {\n",
              "      border-color: transparent;\n",
              "      border-left-color: var(--fill-color);\n",
              "      border-top-color: var(--fill-color);\n",
              "      border-right-color: var(--fill-color);\n",
              "    }\n",
              "    40% {\n",
              "      border-color: transparent;\n",
              "      border-right-color: var(--fill-color);\n",
              "      border-top-color: var(--fill-color);\n",
              "    }\n",
              "    60% {\n",
              "      border-color: transparent;\n",
              "      border-right-color: var(--fill-color);\n",
              "    }\n",
              "    80% {\n",
              "      border-color: transparent;\n",
              "      border-right-color: var(--fill-color);\n",
              "      border-bottom-color: var(--fill-color);\n",
              "    }\n",
              "    90% {\n",
              "      border-color: transparent;\n",
              "      border-bottom-color: var(--fill-color);\n",
              "    }\n",
              "  }\n",
              "</style>\n",
              "\n",
              "  <script>\n",
              "    async function quickchart(key) {\n",
              "      const quickchartButtonEl =\n",
              "        document.querySelector('#' + key + ' button');\n",
              "      quickchartButtonEl.disabled = true;  // To prevent multiple clicks.\n",
              "      quickchartButtonEl.classList.add('colab-df-spinner');\n",
              "      try {\n",
              "        const charts = await google.colab.kernel.invokeFunction(\n",
              "            'suggestCharts', [key], {});\n",
              "      } catch (error) {\n",
              "        console.error('Error during call to suggestCharts:', error);\n",
              "      }\n",
              "      quickchartButtonEl.classList.remove('colab-df-spinner');\n",
              "      quickchartButtonEl.classList.add('colab-df-quickchart-complete');\n",
              "    }\n",
              "    (() => {\n",
              "      let quickchartButtonEl =\n",
              "        document.querySelector('#df-b1e3cbe9-536d-4e09-aa3d-bbab68ef4081 button');\n",
              "      quickchartButtonEl.style.display =\n",
              "        google.colab.kernel.accessAllowed ? 'block' : 'none';\n",
              "    })();\n",
              "  </script>\n",
              "</div>\n",
              "\n",
              "    </div>\n",
              "  </div>\n"
            ],
            "application/vnd.google.colaboratory.intrinsic+json": {
              "type": "dataframe",
              "variable_name": "df",
              "summary": "{\n  \"name\": \"df\",\n  \"rows\": 1000,\n  \"fields\": [\n    {\n      \"column\": 0,\n      \"properties\": {\n        \"dtype\": \"number\",\n        \"std\": 1.3305853352904338,\n        \"min\": -4.152375991549002,\n        \"max\": 3.433118924191227,\n        \"num_unique_values\": 1000,\n        \"samples\": [\n          0.38665117566521934,\n          -1.3797167394159007,\n          1.3857542733000474\n        ],\n        \"semantic_type\": \"\",\n        \"description\": \"\"\n      }\n    },\n    {\n      \"column\": 1,\n      \"properties\": {\n        \"dtype\": \"number\",\n        \"std\": 1.011595041169603,\n        \"min\": -3.519140813887538,\n        \"max\": 3.45684650583294,\n        \"num_unique_values\": 1000,\n        \"samples\": [\n          -0.41433501594862937,\n          -2.118941233373273,\n          -0.8043924091118131\n        ],\n        \"semantic_type\": \"\",\n        \"description\": \"\"\n      }\n    },\n    {\n      \"column\": 2,\n      \"properties\": {\n        \"dtype\": \"number\",\n        \"std\": 0.9710976218408449,\n        \"min\": -2.762419370554531,\n        \"max\": 3.8141009702153257,\n        \"num_unique_values\": 1000,\n        \"samples\": [\n          0.09452352113943821,\n          -0.6964940509809276,\n          -1.2206866115767905\n        ],\n        \"semantic_type\": \"\",\n        \"description\": \"\"\n      }\n    },\n    {\n      \"column\": 3,\n      \"properties\": {\n        \"dtype\": \"number\",\n        \"std\": 0.47651597901793563,\n        \"min\": -0.9053000688094154,\n        \"max\": 1.7630398758302315,\n        \"num_unique_values\": 1000,\n        \"samples\": [\n          -0.20675498742215087,\n          0.8883702197357031,\n          -0.07535728251498187\n        ],\n        \"semantic_type\": \"\",\n        \"description\": \"\"\n      }\n    },\n    {\n      \"column\": 4,\n      \"properties\": {\n        \"dtype\": \"number\",\n        \"std\": 0.9998150054420775,\n        \"min\": -3.620414517431177,\n        \"max\": 2.8485311852653816,\n        \"num_unique_values\": 1000,\n        \"samples\": [\n          -0.020945509828503173,\n          -0.35905167519554143,\n          -0.937524279749392\n        ],\n        \"semantic_type\": \"\",\n        \"description\": \"\"\n      }\n    },\n    {\n      \"column\": 5,\n      \"properties\": {\n        \"dtype\": \"number\",\n        \"std\": 0.9874986279239918,\n        \"min\": -3.4396290965195244,\n        \"max\": 2.28719063782753,\n        \"num_unique_values\": 1000,\n        \"samples\": [\n          0.32382927897067104,\n          -1.5700073013641107,\n          -0.6714334873259976\n        ],\n        \"semantic_type\": \"\",\n        \"description\": \"\"\n      }\n    },\n    {\n      \"column\": 6,\n      \"properties\": {\n        \"dtype\": \"number\",\n        \"std\": 1.260067313963051,\n        \"min\": -3.0289568349349345,\n        \"max\": 4.230547744351158,\n        \"num_unique_values\": 1000,\n        \"samples\": [\n          -0.38612502510304714,\n          1.9060613054428264,\n          0.9510125508013035\n        ],\n        \"semantic_type\": \"\",\n        \"description\": \"\"\n      }\n    },\n    {\n      \"column\": 7,\n      \"properties\": {\n        \"dtype\": \"number\",\n        \"std\": 0.9772221308802392,\n        \"min\": -3.6018787998721806,\n        \"max\": 3.323081340025073,\n        \"num_unique_values\": 1000,\n        \"samples\": [\n          0.49293348942689286,\n          -0.8763484182322889,\n          -0.8142556990235428\n        ],\n        \"semantic_type\": \"\",\n        \"description\": \"\"\n      }\n    },\n    {\n      \"column\": 8,\n      \"properties\": {\n        \"dtype\": \"number\",\n        \"std\": 1.0109770327789587,\n        \"min\": -3.183119689105376,\n        \"max\": 3.2057380437739686,\n        \"num_unique_values\": 1000,\n        \"samples\": [\n          1.0063127284267637,\n          0.31715255742998544,\n          0.8252026610397761\n        ],\n        \"semantic_type\": \"\",\n        \"description\": \"\"\n      }\n    }\n  ]\n}"
            }
          },
          "metadata": {},
          "execution_count": 9
        }
      ]
    },
    {
      "cell_type": "code",
      "source": [
        "y"
      ],
      "metadata": {
        "colab": {
          "base_uri": "https://localhost:8080/"
        },
        "id": "C1eE8yQEEee6",
        "outputId": "081ea710-43ca-4d1e-a486-f7b5595a259d"
      },
      "execution_count": null,
      "outputs": [
        {
          "output_type": "execute_result",
          "data": {
            "text/plain": [
              "array([0, 0, 3, 1, 0, 0, 1, 1, 2, 0, 1, 3, 1, 1, 1, 1, 2, 2, 1, 0, 0, 2,\n",
              "       0, 3, 0, 2, 2, 1, 0, 3, 3, 0, 1, 2, 2, 0, 1, 1, 0, 2, 2, 1, 0, 2,\n",
              "       1, 2, 0, 2, 2, 0, 3, 3, 1, 2, 3, 2, 2, 3, 1, 2, 2, 1, 0, 0, 0, 2,\n",
              "       3, 2, 3, 1, 3, 0, 3, 3, 1, 1, 3, 3, 3, 1, 3, 2, 1, 3, 0, 3, 2, 0,\n",
              "       3, 1, 2, 0, 2, 0, 1, 1, 0, 2, 2, 2, 0, 2, 1, 1, 0, 3, 3, 3, 2, 1,\n",
              "       3, 1, 3, 3, 0, 1, 1, 3, 1, 1, 3, 3, 1, 0, 3, 3, 1, 3, 1, 3, 1, 0,\n",
              "       2, 2, 2, 1, 3, 2, 0, 3, 3, 3, 3, 1, 1, 3, 0, 3, 0, 0, 2, 0, 2, 1,\n",
              "       3, 2, 0, 3, 1, 2, 3, 0, 1, 0, 0, 0, 3, 1, 3, 0, 1, 0, 0, 0, 0, 2,\n",
              "       2, 2, 3, 0, 2, 1, 1, 1, 1, 3, 1, 0, 1, 1, 3, 1, 1, 0, 3, 0, 3, 1,\n",
              "       2, 0, 2, 0, 3, 0, 2, 1, 3, 3, 2, 0, 2, 2, 3, 1, 2, 1, 3, 1, 1, 1,\n",
              "       2, 2, 0, 1, 3, 2, 3, 1, 3, 0, 3, 3, 0, 3, 0, 3, 1, 0, 0, 0, 0, 3,\n",
              "       2, 0, 2, 1, 0, 0, 3, 2, 1, 2, 2, 2, 0, 0, 1, 0, 3, 1, 2, 3, 2, 0,\n",
              "       3, 3, 3, 3, 0, 2, 0, 2, 1, 2, 0, 1, 1, 0, 3, 3, 2, 3, 1, 3, 0, 3,\n",
              "       0, 1, 2, 1, 3, 0, 1, 0, 1, 3, 2, 1, 1, 0, 1, 2, 1, 2, 2, 3, 2, 2,\n",
              "       3, 3, 1, 3, 3, 3, 2, 2, 2, 1, 1, 3, 0, 2, 0, 2, 1, 2, 3, 1, 3, 0,\n",
              "       2, 2, 2, 3, 2, 1, 0, 0, 0, 0, 1, 3, 1, 1, 2, 1, 1, 0, 1, 1, 0, 2,\n",
              "       3, 3, 1, 0, 3, 1, 0, 2, 1, 0, 2, 1, 2, 3, 2, 0, 0, 3, 0, 3, 0, 3,\n",
              "       2, 1, 2, 3, 1, 3, 3, 2, 1, 1, 2, 0, 1, 2, 1, 3, 1, 1, 0, 1, 2, 2,\n",
              "       0, 0, 3, 3, 0, 2, 0, 0, 0, 1, 3, 0, 0, 1, 1, 2, 2, 3, 0, 2, 1, 3,\n",
              "       1, 3, 0, 3, 0, 0, 1, 2, 3, 3, 2, 2, 1, 1, 0, 1, 3, 1, 2, 0, 3, 0,\n",
              "       3, 3, 3, 2, 0, 0, 2, 2, 1, 2, 0, 2, 3, 1, 1, 2, 3, 3, 3, 3, 3, 0,\n",
              "       2, 1, 2, 0, 3, 3, 0, 1, 3, 0, 3, 3, 3, 3, 0, 2, 2, 2, 1, 1, 2, 3,\n",
              "       0, 1, 3, 0, 2, 3, 0, 1, 0, 3, 2, 1, 3, 1, 1, 2, 1, 3, 1, 2, 2, 0,\n",
              "       3, 0, 2, 1, 1, 3, 0, 3, 1, 3, 1, 1, 3, 0, 0, 0, 0, 0, 2, 2, 0, 2,\n",
              "       2, 1, 0, 3, 0, 3, 2, 0, 0, 1, 1, 1, 2, 2, 0, 0, 0, 2, 3, 0, 3, 1,\n",
              "       3, 0, 2, 0, 0, 3, 3, 3, 2, 1, 2, 1, 2, 3, 2, 3, 2, 3, 2, 3, 3, 3,\n",
              "       1, 2, 3, 1, 3, 2, 1, 2, 1, 3, 1, 0, 3, 3, 1, 0, 2, 2, 0, 0, 2, 1,\n",
              "       3, 0, 3, 3, 0, 2, 0, 3, 1, 1, 2, 0, 0, 0, 1, 0, 0, 1, 1, 2, 3, 2,\n",
              "       1, 0, 2, 2, 1, 3, 3, 3, 2, 1, 3, 2, 3, 2, 2, 2, 0, 3, 3, 2, 3, 0,\n",
              "       2, 0, 2, 1, 1, 3, 1, 2, 2, 1, 2, 0, 1, 2, 1, 3, 0, 2, 1, 1, 0, 0,\n",
              "       1, 0, 3, 0, 0, 1, 3, 3, 1, 2, 1, 1, 3, 2, 0, 1, 0, 3, 2, 0, 3, 2,\n",
              "       2, 3, 3, 1, 0, 0, 1, 0, 1, 0, 0, 3, 3, 3, 1, 2, 3, 0, 2, 0, 2, 3,\n",
              "       0, 0, 1, 0, 0, 2, 2, 0, 3, 2, 3, 2, 1, 3, 1, 3, 2, 2, 1, 0, 1, 2,\n",
              "       0, 1, 1, 2, 0, 1, 0, 3, 2, 1, 3, 1, 1, 1, 3, 1, 0, 1, 3, 1, 3, 0,\n",
              "       0, 2, 1, 2, 2, 2, 1, 2, 0, 2, 0, 2, 2, 0, 2, 3, 3, 2, 3, 0, 3, 1,\n",
              "       1, 2, 1, 2, 3, 3, 0, 2, 2, 0, 2, 3, 0, 2, 1, 0, 1, 2, 1, 1, 2, 0,\n",
              "       1, 3, 1, 2, 0, 1, 2, 0, 2, 0, 3, 2, 0, 2, 1, 1, 3, 0, 2, 2, 3, 0,\n",
              "       1, 3, 2, 0, 1, 1, 2, 0, 0, 0, 2, 3, 2, 1, 0, 0, 1, 3, 3, 1, 1, 2,\n",
              "       1, 2, 1, 2, 0, 2, 0, 1, 3, 3, 2, 2, 1, 1, 0, 0, 2, 1, 0, 1, 3, 3,\n",
              "       1, 0, 2, 0, 0, 2, 3, 2, 3, 0, 1, 3, 3, 1, 3, 3, 2, 2, 2, 0, 3, 0,\n",
              "       0, 3, 1, 2, 3, 0, 3, 0, 2, 2, 3, 1, 2, 0, 2, 2, 0, 1, 3, 2, 2, 1,\n",
              "       2, 1, 3, 3, 2, 0, 0, 1, 3, 0, 0, 2, 1, 1, 3, 3, 0, 0, 2, 1, 2, 1,\n",
              "       3, 0, 3, 3, 3, 3, 0, 0, 0, 0, 2, 2, 0, 0, 1, 1, 2, 1, 0, 2, 3, 1,\n",
              "       1, 3, 1, 1, 2, 3, 0, 1, 2, 1, 3, 2, 3, 0, 0, 3, 3, 0, 1, 2, 2, 2,\n",
              "       1, 3, 1, 1, 3, 2, 2, 2, 1, 1, 2, 0, 2, 0, 0, 2, 0, 3, 2, 1, 2, 3,\n",
              "       0, 0, 2, 1, 0, 3, 3, 2, 3, 0])"
            ]
          },
          "metadata": {},
          "execution_count": 10
        }
      ]
    },
    {
      "cell_type": "code",
      "source": [
        "from sklearn.model_selection import train_test_split\n",
        "X_train,X_test,y_train,y_test=train_test_split(X,y)\n",
        "X_train.shape,y_train.shape"
      ],
      "metadata": {
        "colab": {
          "base_uri": "https://localhost:8080/"
        },
        "id": "PUE2j6ZSFDjV",
        "outputId": "9d435990-9a9b-435d-c9be-72e587151da5"
      },
      "execution_count": null,
      "outputs": [
        {
          "output_type": "execute_result",
          "data": {
            "text/plain": [
              "((750, 9), (750,))"
            ]
          },
          "metadata": {},
          "execution_count": 11
        }
      ]
    },
    {
      "cell_type": "markdown",
      "source": [
        "**K-nearest neighbour classifier**"
      ],
      "metadata": {
        "id": "b93TKzVQFbxd"
      }
    },
    {
      "cell_type": "markdown",
      "source": [
        "algorithm, metric are dfault"
      ],
      "metadata": {
        "id": "8UX2eJjhGHUg"
      }
    },
    {
      "cell_type": "code",
      "source": [
        "from sklearn.neighbors import KNeighborsClassifier\n",
        "knnc=KNeighborsClassifier(n_neighbors=5)\n",
        "knnc.fit(X_train,y_train)\n",
        "y_pred=knnc.predict(X_test)\n",
        "y_pred"
      ],
      "metadata": {
        "colab": {
          "base_uri": "https://localhost:8080/"
        },
        "id": "vS5WrRaDFaAG",
        "outputId": "bdf558d0-6c81-42eb-ca73-da209d34e884"
      },
      "execution_count": null,
      "outputs": [
        {
          "output_type": "execute_result",
          "data": {
            "text/plain": [
              "array([1, 2, 1, 3, 3, 2, 1, 2, 1, 2, 3, 0, 3, 2, 0, 0, 3, 2, 3, 2, 2, 2,\n",
              "       0, 0, 2, 0, 2, 0, 3, 0, 0, 0, 1, 3, 1, 1, 1, 1, 0, 0, 3, 3, 3, 2,\n",
              "       2, 3, 3, 2, 2, 1, 1, 0, 3, 0, 2, 0, 1, 0, 3, 3, 1, 2, 3, 2, 0, 3,\n",
              "       0, 2, 2, 1, 1, 1, 3, 1, 2, 1, 1, 0, 2, 2, 2, 0, 2, 1, 0, 2, 3, 1,\n",
              "       2, 1, 1, 2, 3, 2, 2, 1, 1, 3, 1, 2, 0, 1, 1, 3, 2, 0, 2, 1, 2, 3,\n",
              "       2, 1, 3, 3, 3, 2, 0, 3, 1, 1, 1, 3, 2, 3, 1, 2, 2, 1, 0, 1, 2, 0,\n",
              "       0, 1, 3, 1, 3, 1, 2, 2, 1, 1, 3, 1, 0, 3, 1, 1, 3, 0, 1, 3, 0, 0,\n",
              "       2, 2, 0, 0, 1, 1, 0, 3, 1, 0, 1, 0, 1, 0, 0, 0, 0, 1, 3, 0, 3, 1,\n",
              "       0, 0, 1, 0, 1, 2, 1, 3, 0, 3, 2, 1, 1, 0, 0, 1, 2, 1, 0, 2, 0, 3,\n",
              "       0, 0, 3, 3, 2, 3, 2, 2, 2, 0, 1, 3, 0, 1, 3, 1, 3, 3, 0, 0, 1, 3,\n",
              "       0, 1, 3, 2, 0, 2, 1, 2, 2, 1, 2, 3, 0, 2, 0, 2, 0, 2, 1, 3, 1, 2,\n",
              "       3, 3, 0, 1, 3, 3, 3, 1])"
            ]
          },
          "metadata": {},
          "execution_count": 13
        }
      ]
    },
    {
      "cell_type": "code",
      "source": [
        "from sklearn.metrics import classification_report,accuracy_score,confusion_matrix\n",
        "print(confusion_matrix(y_test,y_pred))\n",
        "print(accuracy_score(y_test,y_pred))\n",
        "print(classification_report(y_test,y_pred))"
      ],
      "metadata": {
        "colab": {
          "base_uri": "https://localhost:8080/"
        },
        "id": "j0KtmwK6GaQg",
        "outputId": "c0d3d900-c02b-4f8c-a5de-9a8d268e58d1"
      },
      "execution_count": null,
      "outputs": [
        {
          "output_type": "stream",
          "name": "stdout",
          "text": [
            "[[41  7  8  0]\n",
            " [11 53  1  1]\n",
            " [ 9  7 51  1]\n",
            " [ 0  3  1 56]]\n",
            "0.804\n",
            "              precision    recall  f1-score   support\n",
            "\n",
            "           0       0.67      0.73      0.70        56\n",
            "           1       0.76      0.80      0.78        66\n",
            "           2       0.84      0.75      0.79        68\n",
            "           3       0.97      0.93      0.95        60\n",
            "\n",
            "    accuracy                           0.80       250\n",
            "   macro avg       0.81      0.80      0.81       250\n",
            "weighted avg       0.81      0.80      0.81       250\n",
            "\n"
          ]
        }
      ]
    },
    {
      "cell_type": "markdown",
      "source": [
        "**Hyper Parameter Tuning**\n",
        "\n",
        "using gridsearch and Randomized search cv"
      ],
      "metadata": {
        "id": "dXXorGXKHQ6E"
      }
    },
    {
      "cell_type": "markdown",
      "source": [
        "weights: str = \"uniform\", algorithm: str = \"auto\", leaf_size: int = 30, p: int = 2, metric: str = \"minkowski\", metric_params: Any | None = None, n_jobs: Any | None = None) -> None"
      ],
      "metadata": {
        "id": "d4bdtRw5IDyy"
      }
    },
    {
      "cell_type": "code",
      "source": [
        "\n",
        "weights=['uniform', 'distance']\n",
        "n_neighbors=[4,5,6,7]\n",
        "algorithm=['ball_tree', 'kd_tree', 'brute']\n",
        "p=[1,2]\n",
        "params=dict(\n",
        "    weights=weights,\n",
        "    n_neighbors=n_neighbors,\n",
        "    algorithm=algorithm,\n",
        "    p=p\n",
        ")\n",
        "params"
      ],
      "metadata": {
        "colab": {
          "base_uri": "https://localhost:8080/"
        },
        "id": "JpI4sDx4HPuy",
        "outputId": "db0c7cf8-68ea-4f7d-c16e-de8c890f021b"
      },
      "execution_count": null,
      "outputs": [
        {
          "output_type": "execute_result",
          "data": {
            "text/plain": [
              "{'weights': ['uniform', 'distance'],\n",
              " 'n_neighbors': [4, 5, 6, 7],\n",
              " 'algorithm': ['ball_tree', 'kd_tree', 'brute'],\n",
              " 'p': [1, 2]}"
            ]
          },
          "metadata": {},
          "execution_count": 15
        }
      ]
    },
    {
      "cell_type": "code",
      "source": [
        "knnc=KNeighborsClassifier()\n",
        "knnc"
      ],
      "metadata": {
        "colab": {
          "base_uri": "https://localhost:8080/",
          "height": 74
        },
        "id": "n9-iBFbEJdcA",
        "outputId": "d06b941f-fb96-4219-bf0f-3765383c9557"
      },
      "execution_count": null,
      "outputs": [
        {
          "output_type": "execute_result",
          "data": {
            "text/plain": [
              "KNeighborsClassifier()"
            ],
            "text/html": [
              "<style>#sk-container-id-1 {color: black;}#sk-container-id-1 pre{padding: 0;}#sk-container-id-1 div.sk-toggleable {background-color: white;}#sk-container-id-1 label.sk-toggleable__label {cursor: pointer;display: block;width: 100%;margin-bottom: 0;padding: 0.3em;box-sizing: border-box;text-align: center;}#sk-container-id-1 label.sk-toggleable__label-arrow:before {content: \"▸\";float: left;margin-right: 0.25em;color: #696969;}#sk-container-id-1 label.sk-toggleable__label-arrow:hover:before {color: black;}#sk-container-id-1 div.sk-estimator:hover label.sk-toggleable__label-arrow:before {color: black;}#sk-container-id-1 div.sk-toggleable__content {max-height: 0;max-width: 0;overflow: hidden;text-align: left;background-color: #f0f8ff;}#sk-container-id-1 div.sk-toggleable__content pre {margin: 0.2em;color: black;border-radius: 0.25em;background-color: #f0f8ff;}#sk-container-id-1 input.sk-toggleable__control:checked~div.sk-toggleable__content {max-height: 200px;max-width: 100%;overflow: auto;}#sk-container-id-1 input.sk-toggleable__control:checked~label.sk-toggleable__label-arrow:before {content: \"▾\";}#sk-container-id-1 div.sk-estimator input.sk-toggleable__control:checked~label.sk-toggleable__label {background-color: #d4ebff;}#sk-container-id-1 div.sk-label input.sk-toggleable__control:checked~label.sk-toggleable__label {background-color: #d4ebff;}#sk-container-id-1 input.sk-hidden--visually {border: 0;clip: rect(1px 1px 1px 1px);clip: rect(1px, 1px, 1px, 1px);height: 1px;margin: -1px;overflow: hidden;padding: 0;position: absolute;width: 1px;}#sk-container-id-1 div.sk-estimator {font-family: monospace;background-color: #f0f8ff;border: 1px dotted black;border-radius: 0.25em;box-sizing: border-box;margin-bottom: 0.5em;}#sk-container-id-1 div.sk-estimator:hover {background-color: #d4ebff;}#sk-container-id-1 div.sk-parallel-item::after {content: \"\";width: 100%;border-bottom: 1px solid gray;flex-grow: 1;}#sk-container-id-1 div.sk-label:hover label.sk-toggleable__label {background-color: #d4ebff;}#sk-container-id-1 div.sk-serial::before {content: \"\";position: absolute;border-left: 1px solid gray;box-sizing: border-box;top: 0;bottom: 0;left: 50%;z-index: 0;}#sk-container-id-1 div.sk-serial {display: flex;flex-direction: column;align-items: center;background-color: white;padding-right: 0.2em;padding-left: 0.2em;position: relative;}#sk-container-id-1 div.sk-item {position: relative;z-index: 1;}#sk-container-id-1 div.sk-parallel {display: flex;align-items: stretch;justify-content: center;background-color: white;position: relative;}#sk-container-id-1 div.sk-item::before, #sk-container-id-1 div.sk-parallel-item::before {content: \"\";position: absolute;border-left: 1px solid gray;box-sizing: border-box;top: 0;bottom: 0;left: 50%;z-index: -1;}#sk-container-id-1 div.sk-parallel-item {display: flex;flex-direction: column;z-index: 1;position: relative;background-color: white;}#sk-container-id-1 div.sk-parallel-item:first-child::after {align-self: flex-end;width: 50%;}#sk-container-id-1 div.sk-parallel-item:last-child::after {align-self: flex-start;width: 50%;}#sk-container-id-1 div.sk-parallel-item:only-child::after {width: 0;}#sk-container-id-1 div.sk-dashed-wrapped {border: 1px dashed gray;margin: 0 0.4em 0.5em 0.4em;box-sizing: border-box;padding-bottom: 0.4em;background-color: white;}#sk-container-id-1 div.sk-label label {font-family: monospace;font-weight: bold;display: inline-block;line-height: 1.2em;}#sk-container-id-1 div.sk-label-container {text-align: center;}#sk-container-id-1 div.sk-container {/* jupyter's `normalize.less` sets `[hidden] { display: none; }` but bootstrap.min.css set `[hidden] { display: none !important; }` so we also need the `!important` here to be able to override the default hidden behavior on the sphinx rendered scikit-learn.org. See: https://github.com/scikit-learn/scikit-learn/issues/21755 */display: inline-block !important;position: relative;}#sk-container-id-1 div.sk-text-repr-fallback {display: none;}</style><div id=\"sk-container-id-1\" class=\"sk-top-container\"><div class=\"sk-text-repr-fallback\"><pre>KNeighborsClassifier()</pre><b>In a Jupyter environment, please rerun this cell to show the HTML representation or trust the notebook. <br />On GitHub, the HTML representation is unable to render, please try loading this page with nbviewer.org.</b></div><div class=\"sk-container\" hidden><div class=\"sk-item\"><div class=\"sk-estimator sk-toggleable\"><input class=\"sk-toggleable__control sk-hidden--visually\" id=\"sk-estimator-id-1\" type=\"checkbox\" checked><label for=\"sk-estimator-id-1\" class=\"sk-toggleable__label sk-toggleable__label-arrow\">KNeighborsClassifier</label><div class=\"sk-toggleable__content\"><pre>KNeighborsClassifier()</pre></div></div></div></div></div>"
            ]
          },
          "metadata": {},
          "execution_count": 16
        }
      ]
    },
    {
      "cell_type": "code",
      "source": [
        "from sklearn.model_selection import GridSearchCV,RandomizedSearchCV\n",
        "#gridsearchcv\n",
        "grid=GridSearchCV(estimator=knnc,param_grid=params,scoring='accuracy', n_jobs=-1)\n",
        "grid"
      ],
      "metadata": {
        "colab": {
          "base_uri": "https://localhost:8080/",
          "height": 117
        },
        "id": "hvGCG54iJjzt",
        "outputId": "bacb5e7c-044d-486c-e2ab-a39e725e0430"
      },
      "execution_count": null,
      "outputs": [
        {
          "output_type": "execute_result",
          "data": {
            "text/plain": [
              "GridSearchCV(estimator=KNeighborsClassifier(), n_jobs=-1,\n",
              "             param_grid={'algorithm': ['ball_tree', 'kd_tree', 'brute'],\n",
              "                         'n_neighbors': [4, 5, 6, 7], 'p': [1, 2],\n",
              "                         'weights': ['uniform', 'distance']},\n",
              "             scoring='accuracy')"
            ],
            "text/html": [
              "<style>#sk-container-id-2 {color: black;}#sk-container-id-2 pre{padding: 0;}#sk-container-id-2 div.sk-toggleable {background-color: white;}#sk-container-id-2 label.sk-toggleable__label {cursor: pointer;display: block;width: 100%;margin-bottom: 0;padding: 0.3em;box-sizing: border-box;text-align: center;}#sk-container-id-2 label.sk-toggleable__label-arrow:before {content: \"▸\";float: left;margin-right: 0.25em;color: #696969;}#sk-container-id-2 label.sk-toggleable__label-arrow:hover:before {color: black;}#sk-container-id-2 div.sk-estimator:hover label.sk-toggleable__label-arrow:before {color: black;}#sk-container-id-2 div.sk-toggleable__content {max-height: 0;max-width: 0;overflow: hidden;text-align: left;background-color: #f0f8ff;}#sk-container-id-2 div.sk-toggleable__content pre {margin: 0.2em;color: black;border-radius: 0.25em;background-color: #f0f8ff;}#sk-container-id-2 input.sk-toggleable__control:checked~div.sk-toggleable__content {max-height: 200px;max-width: 100%;overflow: auto;}#sk-container-id-2 input.sk-toggleable__control:checked~label.sk-toggleable__label-arrow:before {content: \"▾\";}#sk-container-id-2 div.sk-estimator input.sk-toggleable__control:checked~label.sk-toggleable__label {background-color: #d4ebff;}#sk-container-id-2 div.sk-label input.sk-toggleable__control:checked~label.sk-toggleable__label {background-color: #d4ebff;}#sk-container-id-2 input.sk-hidden--visually {border: 0;clip: rect(1px 1px 1px 1px);clip: rect(1px, 1px, 1px, 1px);height: 1px;margin: -1px;overflow: hidden;padding: 0;position: absolute;width: 1px;}#sk-container-id-2 div.sk-estimator {font-family: monospace;background-color: #f0f8ff;border: 1px dotted black;border-radius: 0.25em;box-sizing: border-box;margin-bottom: 0.5em;}#sk-container-id-2 div.sk-estimator:hover {background-color: #d4ebff;}#sk-container-id-2 div.sk-parallel-item::after {content: \"\";width: 100%;border-bottom: 1px solid gray;flex-grow: 1;}#sk-container-id-2 div.sk-label:hover label.sk-toggleable__label {background-color: #d4ebff;}#sk-container-id-2 div.sk-serial::before {content: \"\";position: absolute;border-left: 1px solid gray;box-sizing: border-box;top: 0;bottom: 0;left: 50%;z-index: 0;}#sk-container-id-2 div.sk-serial {display: flex;flex-direction: column;align-items: center;background-color: white;padding-right: 0.2em;padding-left: 0.2em;position: relative;}#sk-container-id-2 div.sk-item {position: relative;z-index: 1;}#sk-container-id-2 div.sk-parallel {display: flex;align-items: stretch;justify-content: center;background-color: white;position: relative;}#sk-container-id-2 div.sk-item::before, #sk-container-id-2 div.sk-parallel-item::before {content: \"\";position: absolute;border-left: 1px solid gray;box-sizing: border-box;top: 0;bottom: 0;left: 50%;z-index: -1;}#sk-container-id-2 div.sk-parallel-item {display: flex;flex-direction: column;z-index: 1;position: relative;background-color: white;}#sk-container-id-2 div.sk-parallel-item:first-child::after {align-self: flex-end;width: 50%;}#sk-container-id-2 div.sk-parallel-item:last-child::after {align-self: flex-start;width: 50%;}#sk-container-id-2 div.sk-parallel-item:only-child::after {width: 0;}#sk-container-id-2 div.sk-dashed-wrapped {border: 1px dashed gray;margin: 0 0.4em 0.5em 0.4em;box-sizing: border-box;padding-bottom: 0.4em;background-color: white;}#sk-container-id-2 div.sk-label label {font-family: monospace;font-weight: bold;display: inline-block;line-height: 1.2em;}#sk-container-id-2 div.sk-label-container {text-align: center;}#sk-container-id-2 div.sk-container {/* jupyter's `normalize.less` sets `[hidden] { display: none; }` but bootstrap.min.css set `[hidden] { display: none !important; }` so we also need the `!important` here to be able to override the default hidden behavior on the sphinx rendered scikit-learn.org. See: https://github.com/scikit-learn/scikit-learn/issues/21755 */display: inline-block !important;position: relative;}#sk-container-id-2 div.sk-text-repr-fallback {display: none;}</style><div id=\"sk-container-id-2\" class=\"sk-top-container\"><div class=\"sk-text-repr-fallback\"><pre>GridSearchCV(estimator=KNeighborsClassifier(), n_jobs=-1,\n",
              "             param_grid={&#x27;algorithm&#x27;: [&#x27;ball_tree&#x27;, &#x27;kd_tree&#x27;, &#x27;brute&#x27;],\n",
              "                         &#x27;n_neighbors&#x27;: [4, 5, 6, 7], &#x27;p&#x27;: [1, 2],\n",
              "                         &#x27;weights&#x27;: [&#x27;uniform&#x27;, &#x27;distance&#x27;]},\n",
              "             scoring=&#x27;accuracy&#x27;)</pre><b>In a Jupyter environment, please rerun this cell to show the HTML representation or trust the notebook. <br />On GitHub, the HTML representation is unable to render, please try loading this page with nbviewer.org.</b></div><div class=\"sk-container\" hidden><div class=\"sk-item sk-dashed-wrapped\"><div class=\"sk-label-container\"><div class=\"sk-label sk-toggleable\"><input class=\"sk-toggleable__control sk-hidden--visually\" id=\"sk-estimator-id-2\" type=\"checkbox\" ><label for=\"sk-estimator-id-2\" class=\"sk-toggleable__label sk-toggleable__label-arrow\">GridSearchCV</label><div class=\"sk-toggleable__content\"><pre>GridSearchCV(estimator=KNeighborsClassifier(), n_jobs=-1,\n",
              "             param_grid={&#x27;algorithm&#x27;: [&#x27;ball_tree&#x27;, &#x27;kd_tree&#x27;, &#x27;brute&#x27;],\n",
              "                         &#x27;n_neighbors&#x27;: [4, 5, 6, 7], &#x27;p&#x27;: [1, 2],\n",
              "                         &#x27;weights&#x27;: [&#x27;uniform&#x27;, &#x27;distance&#x27;]},\n",
              "             scoring=&#x27;accuracy&#x27;)</pre></div></div></div><div class=\"sk-parallel\"><div class=\"sk-parallel-item\"><div class=\"sk-item\"><div class=\"sk-label-container\"><div class=\"sk-label sk-toggleable\"><input class=\"sk-toggleable__control sk-hidden--visually\" id=\"sk-estimator-id-3\" type=\"checkbox\" ><label for=\"sk-estimator-id-3\" class=\"sk-toggleable__label sk-toggleable__label-arrow\">estimator: KNeighborsClassifier</label><div class=\"sk-toggleable__content\"><pre>KNeighborsClassifier()</pre></div></div></div><div class=\"sk-serial\"><div class=\"sk-item\"><div class=\"sk-estimator sk-toggleable\"><input class=\"sk-toggleable__control sk-hidden--visually\" id=\"sk-estimator-id-4\" type=\"checkbox\" ><label for=\"sk-estimator-id-4\" class=\"sk-toggleable__label sk-toggleable__label-arrow\">KNeighborsClassifier</label><div class=\"sk-toggleable__content\"><pre>KNeighborsClassifier()</pre></div></div></div></div></div></div></div></div></div></div>"
            ]
          },
          "metadata": {},
          "execution_count": 18
        }
      ]
    },
    {
      "cell_type": "code",
      "source": [
        "grid.fit(X_train,y_train)"
      ],
      "metadata": {
        "colab": {
          "base_uri": "https://localhost:8080/",
          "height": 117
        },
        "id": "p_cmu5ScJj1u",
        "outputId": "9383c020-87bf-4d9d-ada6-fc80f742365d"
      },
      "execution_count": null,
      "outputs": [
        {
          "output_type": "execute_result",
          "data": {
            "text/plain": [
              "GridSearchCV(estimator=KNeighborsClassifier(), n_jobs=-1,\n",
              "             param_grid={'algorithm': ['ball_tree', 'kd_tree', 'brute'],\n",
              "                         'n_neighbors': [4, 5, 6, 7], 'p': [1, 2],\n",
              "                         'weights': ['uniform', 'distance']},\n",
              "             scoring='accuracy')"
            ],
            "text/html": [
              "<style>#sk-container-id-3 {color: black;}#sk-container-id-3 pre{padding: 0;}#sk-container-id-3 div.sk-toggleable {background-color: white;}#sk-container-id-3 label.sk-toggleable__label {cursor: pointer;display: block;width: 100%;margin-bottom: 0;padding: 0.3em;box-sizing: border-box;text-align: center;}#sk-container-id-3 label.sk-toggleable__label-arrow:before {content: \"▸\";float: left;margin-right: 0.25em;color: #696969;}#sk-container-id-3 label.sk-toggleable__label-arrow:hover:before {color: black;}#sk-container-id-3 div.sk-estimator:hover label.sk-toggleable__label-arrow:before {color: black;}#sk-container-id-3 div.sk-toggleable__content {max-height: 0;max-width: 0;overflow: hidden;text-align: left;background-color: #f0f8ff;}#sk-container-id-3 div.sk-toggleable__content pre {margin: 0.2em;color: black;border-radius: 0.25em;background-color: #f0f8ff;}#sk-container-id-3 input.sk-toggleable__control:checked~div.sk-toggleable__content {max-height: 200px;max-width: 100%;overflow: auto;}#sk-container-id-3 input.sk-toggleable__control:checked~label.sk-toggleable__label-arrow:before {content: \"▾\";}#sk-container-id-3 div.sk-estimator input.sk-toggleable__control:checked~label.sk-toggleable__label {background-color: #d4ebff;}#sk-container-id-3 div.sk-label input.sk-toggleable__control:checked~label.sk-toggleable__label {background-color: #d4ebff;}#sk-container-id-3 input.sk-hidden--visually {border: 0;clip: rect(1px 1px 1px 1px);clip: rect(1px, 1px, 1px, 1px);height: 1px;margin: -1px;overflow: hidden;padding: 0;position: absolute;width: 1px;}#sk-container-id-3 div.sk-estimator {font-family: monospace;background-color: #f0f8ff;border: 1px dotted black;border-radius: 0.25em;box-sizing: border-box;margin-bottom: 0.5em;}#sk-container-id-3 div.sk-estimator:hover {background-color: #d4ebff;}#sk-container-id-3 div.sk-parallel-item::after {content: \"\";width: 100%;border-bottom: 1px solid gray;flex-grow: 1;}#sk-container-id-3 div.sk-label:hover label.sk-toggleable__label {background-color: #d4ebff;}#sk-container-id-3 div.sk-serial::before {content: \"\";position: absolute;border-left: 1px solid gray;box-sizing: border-box;top: 0;bottom: 0;left: 50%;z-index: 0;}#sk-container-id-3 div.sk-serial {display: flex;flex-direction: column;align-items: center;background-color: white;padding-right: 0.2em;padding-left: 0.2em;position: relative;}#sk-container-id-3 div.sk-item {position: relative;z-index: 1;}#sk-container-id-3 div.sk-parallel {display: flex;align-items: stretch;justify-content: center;background-color: white;position: relative;}#sk-container-id-3 div.sk-item::before, #sk-container-id-3 div.sk-parallel-item::before {content: \"\";position: absolute;border-left: 1px solid gray;box-sizing: border-box;top: 0;bottom: 0;left: 50%;z-index: -1;}#sk-container-id-3 div.sk-parallel-item {display: flex;flex-direction: column;z-index: 1;position: relative;background-color: white;}#sk-container-id-3 div.sk-parallel-item:first-child::after {align-self: flex-end;width: 50%;}#sk-container-id-3 div.sk-parallel-item:last-child::after {align-self: flex-start;width: 50%;}#sk-container-id-3 div.sk-parallel-item:only-child::after {width: 0;}#sk-container-id-3 div.sk-dashed-wrapped {border: 1px dashed gray;margin: 0 0.4em 0.5em 0.4em;box-sizing: border-box;padding-bottom: 0.4em;background-color: white;}#sk-container-id-3 div.sk-label label {font-family: monospace;font-weight: bold;display: inline-block;line-height: 1.2em;}#sk-container-id-3 div.sk-label-container {text-align: center;}#sk-container-id-3 div.sk-container {/* jupyter's `normalize.less` sets `[hidden] { display: none; }` but bootstrap.min.css set `[hidden] { display: none !important; }` so we also need the `!important` here to be able to override the default hidden behavior on the sphinx rendered scikit-learn.org. See: https://github.com/scikit-learn/scikit-learn/issues/21755 */display: inline-block !important;position: relative;}#sk-container-id-3 div.sk-text-repr-fallback {display: none;}</style><div id=\"sk-container-id-3\" class=\"sk-top-container\"><div class=\"sk-text-repr-fallback\"><pre>GridSearchCV(estimator=KNeighborsClassifier(), n_jobs=-1,\n",
              "             param_grid={&#x27;algorithm&#x27;: [&#x27;ball_tree&#x27;, &#x27;kd_tree&#x27;, &#x27;brute&#x27;],\n",
              "                         &#x27;n_neighbors&#x27;: [4, 5, 6, 7], &#x27;p&#x27;: [1, 2],\n",
              "                         &#x27;weights&#x27;: [&#x27;uniform&#x27;, &#x27;distance&#x27;]},\n",
              "             scoring=&#x27;accuracy&#x27;)</pre><b>In a Jupyter environment, please rerun this cell to show the HTML representation or trust the notebook. <br />On GitHub, the HTML representation is unable to render, please try loading this page with nbviewer.org.</b></div><div class=\"sk-container\" hidden><div class=\"sk-item sk-dashed-wrapped\"><div class=\"sk-label-container\"><div class=\"sk-label sk-toggleable\"><input class=\"sk-toggleable__control sk-hidden--visually\" id=\"sk-estimator-id-5\" type=\"checkbox\" ><label for=\"sk-estimator-id-5\" class=\"sk-toggleable__label sk-toggleable__label-arrow\">GridSearchCV</label><div class=\"sk-toggleable__content\"><pre>GridSearchCV(estimator=KNeighborsClassifier(), n_jobs=-1,\n",
              "             param_grid={&#x27;algorithm&#x27;: [&#x27;ball_tree&#x27;, &#x27;kd_tree&#x27;, &#x27;brute&#x27;],\n",
              "                         &#x27;n_neighbors&#x27;: [4, 5, 6, 7], &#x27;p&#x27;: [1, 2],\n",
              "                         &#x27;weights&#x27;: [&#x27;uniform&#x27;, &#x27;distance&#x27;]},\n",
              "             scoring=&#x27;accuracy&#x27;)</pre></div></div></div><div class=\"sk-parallel\"><div class=\"sk-parallel-item\"><div class=\"sk-item\"><div class=\"sk-label-container\"><div class=\"sk-label sk-toggleable\"><input class=\"sk-toggleable__control sk-hidden--visually\" id=\"sk-estimator-id-6\" type=\"checkbox\" ><label for=\"sk-estimator-id-6\" class=\"sk-toggleable__label sk-toggleable__label-arrow\">estimator: KNeighborsClassifier</label><div class=\"sk-toggleable__content\"><pre>KNeighborsClassifier()</pre></div></div></div><div class=\"sk-serial\"><div class=\"sk-item\"><div class=\"sk-estimator sk-toggleable\"><input class=\"sk-toggleable__control sk-hidden--visually\" id=\"sk-estimator-id-7\" type=\"checkbox\" ><label for=\"sk-estimator-id-7\" class=\"sk-toggleable__label sk-toggleable__label-arrow\">KNeighborsClassifier</label><div class=\"sk-toggleable__content\"><pre>KNeighborsClassifier()</pre></div></div></div></div></div></div></div></div></div></div>"
            ]
          },
          "metadata": {},
          "execution_count": 19
        }
      ]
    },
    {
      "cell_type": "code",
      "source": [
        "y_pred=grid.predict(X_test)\n",
        "y_pred"
      ],
      "metadata": {
        "colab": {
          "base_uri": "https://localhost:8080/"
        },
        "id": "AZYhC1szJj5S",
        "outputId": "ae864fde-955d-4c79-d894-4b84624cb2ac"
      },
      "execution_count": null,
      "outputs": [
        {
          "output_type": "execute_result",
          "data": {
            "text/plain": [
              "array([1, 2, 1, 3, 3, 2, 1, 2, 1, 2, 3, 0, 3, 2, 2, 0, 3, 2, 3, 2, 2, 2,\n",
              "       0, 0, 2, 2, 2, 1, 3, 0, 0, 0, 1, 3, 1, 1, 1, 0, 0, 0, 3, 3, 3, 2,\n",
              "       2, 3, 3, 2, 2, 1, 1, 0, 3, 0, 2, 0, 1, 0, 3, 3, 1, 2, 3, 2, 0, 3,\n",
              "       0, 0, 2, 1, 1, 1, 3, 1, 2, 1, 1, 2, 2, 2, 2, 0, 2, 1, 0, 2, 3, 1,\n",
              "       2, 1, 1, 2, 3, 2, 2, 1, 1, 3, 1, 2, 0, 1, 1, 3, 2, 0, 2, 0, 2, 3,\n",
              "       2, 1, 3, 3, 3, 2, 0, 3, 1, 1, 1, 3, 2, 3, 1, 2, 2, 1, 0, 1, 2, 0,\n",
              "       2, 1, 3, 0, 3, 1, 2, 2, 1, 1, 1, 1, 0, 3, 3, 1, 3, 0, 1, 3, 0, 0,\n",
              "       2, 2, 0, 0, 1, 1, 0, 3, 0, 0, 1, 0, 1, 2, 0, 0, 0, 1, 3, 0, 3, 1,\n",
              "       2, 0, 2, 0, 1, 2, 1, 3, 0, 3, 2, 1, 1, 1, 0, 1, 2, 1, 0, 2, 1, 3,\n",
              "       0, 0, 3, 3, 2, 3, 2, 2, 2, 0, 2, 3, 0, 1, 3, 1, 3, 3, 0, 1, 1, 3,\n",
              "       2, 0, 3, 2, 1, 0, 1, 2, 2, 1, 2, 2, 0, 2, 0, 2, 0, 2, 1, 3, 1, 2,\n",
              "       3, 3, 1, 0, 3, 3, 3, 1])"
            ]
          },
          "metadata": {},
          "execution_count": 20
        }
      ]
    },
    {
      "cell_type": "code",
      "source": [
        "rand.best_params_"
      ],
      "metadata": {
        "colab": {
          "base_uri": "https://localhost:8080/"
        },
        "id": "fhzVqP31MMjt",
        "outputId": "e016e94f-738c-459b-e056-27261f9eb61e"
      },
      "execution_count": null,
      "outputs": [
        {
          "output_type": "execute_result",
          "data": {
            "text/plain": [
              "{'weights': 'distance', 'p': 1, 'n_neighbors': 5, 'algorithm': 'brute'}"
            ]
          },
          "metadata": {},
          "execution_count": 24
        }
      ]
    },
    {
      "cell_type": "code",
      "source": [
        "from sklearn.metrics import classification_report,accuracy_score,confusion_matrix\n",
        "print(confusion_matrix(y_test,y_pred))\n",
        "print(accuracy_score(y_test,y_pred))\n",
        "print(classification_report(y_test,y_pred))"
      ],
      "metadata": {
        "colab": {
          "base_uri": "https://localhost:8080/"
        },
        "id": "iaFOHHIiKVTc",
        "outputId": "997181a6-aa5b-4099-9a27-b327f25da935"
      },
      "execution_count": null,
      "outputs": [
        {
          "output_type": "stream",
          "name": "stdout",
          "text": [
            "[[41  7  8  0]\n",
            " [ 9 56  1  0]\n",
            " [ 6  3 59  0]\n",
            " [ 0  2  1 57]]\n",
            "0.852\n",
            "              precision    recall  f1-score   support\n",
            "\n",
            "           0       0.73      0.73      0.73        56\n",
            "           1       0.82      0.85      0.84        66\n",
            "           2       0.86      0.87      0.86        68\n",
            "           3       1.00      0.95      0.97        60\n",
            "\n",
            "    accuracy                           0.85       250\n",
            "   macro avg       0.85      0.85      0.85       250\n",
            "weighted avg       0.85      0.85      0.85       250\n",
            "\n"
          ]
        }
      ]
    },
    {
      "cell_type": "markdown",
      "source": [
        "**Randomized Searched CV**"
      ],
      "metadata": {
        "id": "cQN4rhx4KduE"
      }
    },
    {
      "cell_type": "code",
      "source": [
        "rand=RandomizedSearchCV(estimator=knnc,param_distributions=params,scoring='accuracy', n_jobs=-1,)\n",
        "rand.fit(X_train,y_train)\n",
        "y_pred=rand.predict(X_test)\n",
        "print(confusion_matrix(y_test,y_pred))\n",
        "print(accuracy_score(y_test,y_pred))\n",
        "print(classification_report(y_test,y_pred))"
      ],
      "metadata": {
        "colab": {
          "base_uri": "https://localhost:8080/"
        },
        "id": "BKGNMmUJKY5x",
        "outputId": "f38adc15-9b46-4b05-b086-d4070100a643"
      },
      "execution_count": null,
      "outputs": [
        {
          "output_type": "stream",
          "name": "stdout",
          "text": [
            "[[41  7  8  0]\n",
            " [ 9 56  1  0]\n",
            " [ 6  3 59  0]\n",
            " [ 0  2  1 57]]\n",
            "0.852\n",
            "              precision    recall  f1-score   support\n",
            "\n",
            "           0       0.73      0.73      0.73        56\n",
            "           1       0.82      0.85      0.84        66\n",
            "           2       0.86      0.87      0.86        68\n",
            "           3       1.00      0.95      0.97        60\n",
            "\n",
            "    accuracy                           0.85       250\n",
            "   macro avg       0.85      0.85      0.85       250\n",
            "weighted avg       0.85      0.85      0.85       250\n",
            "\n"
          ]
        }
      ]
    },
    {
      "cell_type": "markdown",
      "source": [
        "# **K Nearest Neighbour Regression**"
      ],
      "metadata": {
        "id": "9MBgbeHvK7aF"
      }
    },
    {
      "cell_type": "code",
      "source": [
        "from sklearn.neighbors import KNeighborsRegressor\n",
        "knnr=KNeighborsRegressor(n_neighbors=5)\n",
        "knnr.fit(X_train,y_train)\n",
        "y_pred=knnr.predict(X_test)\n",
        "from sklearn.metrics import mean_absolute_error, mean_squared_error, r2_score\n",
        "mae = mean_absolute_error(y_test, y_pred)\n",
        "mse = mean_squared_error(y_test, y_pred)\n",
        "rmse = mean_squared_error(y_test, y_pred, squared=False)\n",
        "r2 = r2_score(y_test, y_pred)\n",
        "print(f\"Mean Absolute Error (MAE): {mae}\")\n",
        "print(f\"Mean Squared Error (MSE): {mse}\")\n",
        "print(f\"Root Mean Squared Error (RMSE): {rmse}\")\n",
        "print(f\"R-squared (R²): {r2}\")"
      ],
      "metadata": {
        "colab": {
          "base_uri": "https://localhost:8080/"
        },
        "id": "yOQfPJ6nK2-t",
        "outputId": "969faa32-a349-454e-b57d-e21becb006e2"
      },
      "execution_count": null,
      "outputs": [
        {
          "output_type": "stream",
          "name": "stdout",
          "text": [
            "Mean Absolute Error (MAE): 0.35919999999999996\n",
            "Mean Squared Error (MSE): 0.31664000000000003\n",
            "Root Mean Squared Error (RMSE): 0.5627077394171863\n",
            "R-squared (R²): 0.7310264216592366\n"
          ]
        }
      ]
    },
    {
      "cell_type": "markdown",
      "source": [
        "**Hyper parametertuning**"
      ],
      "metadata": {
        "id": "VJ9KAtBBL-K5"
      }
    },
    {
      "cell_type": "code",
      "source": [
        "knnr=KNeighborsRegressor()\n",
        "grid=GridSearchCV(estimator=knnr,param_grid=params,scoring='accuracy', n_jobs=-1)\n",
        "grid.fit(X_train,y_train)\n",
        "y_pred=grid.predict(X_test)\n",
        "mae = mean_absolute_error(y_test, y_pred)\n",
        "mse = mean_squared_error(y_test, y_pred)\n",
        "rmse = mean_squared_error(y_test, y_pred, squared=False)\n",
        "r2 = r2_score(y_test, y_pred)\n",
        "print(f\"Mean Absolute Error (MAE): {mae}\")\n",
        "print(f\"Mean Squared Error (MSE): {mse}\")\n",
        "print(f\"Root Mean Squared Error (RMSE): {rmse}\")\n",
        "print(f\"R-squared (R²): {r2}\")"
      ],
      "metadata": {
        "colab": {
          "base_uri": "https://localhost:8080/"
        },
        "id": "_MZT3tx9L11h",
        "outputId": "4360b89c-e5a2-44ff-ac52-b5134856674d"
      },
      "execution_count": null,
      "outputs": [
        {
          "output_type": "stream",
          "name": "stdout",
          "text": [
            "Mean Absolute Error (MAE): 0.323\n",
            "Mean Squared Error (MSE): 0.30375\n",
            "Root Mean Squared Error (RMSE): 0.5511351921262151\n",
            "R-squared (R²): 0.7419759840165271\n"
          ]
        },
        {
          "output_type": "stream",
          "name": "stderr",
          "text": [
            "/usr/local/lib/python3.10/dist-packages/sklearn/model_selection/_search.py:979: UserWarning: One or more of the test scores are non-finite: [nan nan nan nan nan nan nan nan nan nan nan nan nan nan nan nan nan nan\n",
            " nan nan nan nan nan nan nan nan nan nan nan nan nan nan nan nan nan nan\n",
            " nan nan nan nan nan nan nan nan nan nan nan nan]\n",
            "  warnings.warn(\n"
          ]
        }
      ]
    },
    {
      "cell_type": "code",
      "source": [
        "rand.best_params_"
      ],
      "metadata": {
        "colab": {
          "base_uri": "https://localhost:8080/"
        },
        "id": "W5lnrXvhNI9s",
        "outputId": "a6fce84f-7a5d-4c37-e281-3d3bcb2548ca"
      },
      "execution_count": null,
      "outputs": [
        {
          "output_type": "execute_result",
          "data": {
            "text/plain": [
              "{'weights': 'distance', 'p': 1, 'n_neighbors': 5, 'algorithm': 'brute'}"
            ]
          },
          "metadata": {},
          "execution_count": 28
        }
      ]
    },
    {
      "cell_type": "code",
      "source": [
        "rand=RandomizedSearchCV(estimator=knnr,param_distributions=params,scoring='accuracy', n_jobs=-1,)\n",
        "rand.fit(X_train,y_train)\n",
        "y_pred=rand.predict(X_test)\n",
        "mae = mean_absolute_error(y_test, y_pred)\n",
        "mse = mean_squared_error(y_test, y_pred)\n",
        "rmse = mean_squared_error(y_test, y_pred, squared=False)\n",
        "r2 = r2_score(y_test, y_pred)\n",
        "print(f\"Mean Absolute Error (MAE): {mae}\")\n",
        "print(f\"Mean Squared Error (MSE): {mse}\")\n",
        "print(f\"Root Mean Squared Error (RMSE): {rmse}\")\n",
        "print(f\"R-squared (R²): {r2}\")"
      ],
      "metadata": {
        "colab": {
          "base_uri": "https://localhost:8080/"
        },
        "id": "ky1k4q36NPdU",
        "outputId": "e7172657-ed24-4ca6-8e46-079e799d3f66"
      },
      "execution_count": null,
      "outputs": [
        {
          "output_type": "stream",
          "name": "stdout",
          "text": [
            "Mean Absolute Error (MAE): 0.36856454050655324\n",
            "Mean Squared Error (MSE): 0.2979767022102017\n",
            "Root Mean Squared Error (RMSE): 0.5458724230167721\n",
            "R-squared (R²): 0.7468801798393823\n"
          ]
        },
        {
          "output_type": "stream",
          "name": "stderr",
          "text": [
            "/usr/local/lib/python3.10/dist-packages/sklearn/model_selection/_search.py:979: UserWarning: One or more of the test scores are non-finite: [nan nan nan nan nan nan nan nan nan nan]\n",
            "  warnings.warn(\n"
          ]
        }
      ]
    },
    {
      "cell_type": "code",
      "source": [],
      "metadata": {
        "id": "FAZHzaTRNaR3"
      },
      "execution_count": null,
      "outputs": []
    }
  ]
}