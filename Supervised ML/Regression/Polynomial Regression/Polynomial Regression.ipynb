{
 "cells": [
  {
   "cell_type": "code",
   "execution_count": 1,
   "id": "02c6cc85",
   "metadata": {},
   "outputs": [],
   "source": [
    "import numpy as np \n",
    "import pandas as pd\n",
    "import matplotlib.pyplot as plt\n",
    "import seaborn as sns\n",
    "%matplotlib inline"
   ]
  },
  {
   "cell_type": "code",
   "execution_count": 2,
   "id": "f63d73ab",
   "metadata": {},
   "outputs": [],
   "source": [
    "X = 6 * np.random.rand(100, 1)-3\n",
    "y =0.5 * X**2 + 1.5*X + 2 + np.random.randn(100, 1)\n",
    "# quadratic equation used- y=0.5x^2+1.5x+2+outliers\n"
   ]
  },
  {
   "cell_type": "code",
   "execution_count": 3,
   "id": "67a7a790",
   "metadata": {},
   "outputs": [
    {
     "data": {
      "text/html": [
       "<div>\n",
       "<style scoped>\n",
       "    .dataframe tbody tr th:only-of-type {\n",
       "        vertical-align: middle;\n",
       "    }\n",
       "\n",
       "    .dataframe tbody tr th {\n",
       "        vertical-align: top;\n",
       "    }\n",
       "\n",
       "    .dataframe thead th {\n",
       "        text-align: right;\n",
       "    }\n",
       "</style>\n",
       "<table border=\"1\" class=\"dataframe\">\n",
       "  <thead>\n",
       "    <tr style=\"text-align: right;\">\n",
       "      <th></th>\n",
       "      <th>x</th>\n",
       "      <th>y</th>\n",
       "    </tr>\n",
       "  </thead>\n",
       "  <tbody>\n",
       "    <tr>\n",
       "      <th>0</th>\n",
       "      <td>1.108539</td>\n",
       "      <td>3.860284</td>\n",
       "    </tr>\n",
       "    <tr>\n",
       "      <th>1</th>\n",
       "      <td>1.834427</td>\n",
       "      <td>7.127620</td>\n",
       "    </tr>\n",
       "    <tr>\n",
       "      <th>2</th>\n",
       "      <td>-0.844079</td>\n",
       "      <td>0.341296</td>\n",
       "    </tr>\n",
       "    <tr>\n",
       "      <th>3</th>\n",
       "      <td>0.888252</td>\n",
       "      <td>4.860873</td>\n",
       "    </tr>\n",
       "    <tr>\n",
       "      <th>4</th>\n",
       "      <td>-0.014436</td>\n",
       "      <td>2.034673</td>\n",
       "    </tr>\n",
       "  </tbody>\n",
       "</table>\n",
       "</div>"
      ],
      "text/plain": [
       "          x         y\n",
       "0  1.108539  3.860284\n",
       "1  1.834427  7.127620\n",
       "2 -0.844079  0.341296\n",
       "3  0.888252  4.860873\n",
       "4 -0.014436  2.034673"
      ]
     },
     "execution_count": 3,
     "metadata": {},
     "output_type": "execute_result"
    }
   ],
   "source": [
    "df=pd.DataFrame({'x':X.flatten(),'y':y.flatten()})\n",
    "df.head()"
   ]
  },
  {
   "cell_type": "markdown",
   "id": "d30b519e",
   "metadata": {},
   "source": [
    "# Check Whether it is Polinomial degree or not"
   ]
  },
  {
   "cell_type": "code",
   "execution_count": 4,
   "id": "24cb5e40",
   "metadata": {
    "scrolled": true
   },
   "outputs": [
    {
     "data": {
      "image/png": "[encoded data removed]",
      "text/plain": [
       "<Figure size 360x360 with 6 Axes>"
      ]
     },
     "metadata": {
      "needs_background": "light"
     },
     "output_type": "display_data"
    }
   ],
   "source": [
    "sns.pairplot(data=df,kind='scatter')\n",
    "plt.show()                                 #the points are in curve "
   ]
  },
  {
   "cell_type": "code",
   "execution_count": 5,
   "id": "9070a286",
   "metadata": {},
   "outputs": [
    {
     "data": {
      "text/html": [
       "<div>\n",
       "<style scoped>\n",
       "    .dataframe tbody tr th:only-of-type {\n",
       "        vertical-align: middle;\n",
       "    }\n",
       "\n",
       "    .dataframe tbody tr th {\n",
       "        vertical-align: top;\n",
       "    }\n",
       "\n",
       "    .dataframe thead th {\n",
       "        text-align: right;\n",
       "    }\n",
       "</style>\n",
       "<table border=\"1\" class=\"dataframe\">\n",
       "  <thead>\n",
       "    <tr style=\"text-align: right;\">\n",
       "      <th></th>\n",
       "      <th>x</th>\n",
       "      <th>y</th>\n",
       "    </tr>\n",
       "  </thead>\n",
       "  <tbody>\n",
       "    <tr>\n",
       "      <th>x</th>\n",
       "      <td>1.000000</td>\n",
       "      <td>0.820187</td>\n",
       "    </tr>\n",
       "    <tr>\n",
       "      <th>y</th>\n",
       "      <td>0.820187</td>\n",
       "      <td>1.000000</td>\n",
       "    </tr>\n",
       "  </tbody>\n",
       "</table>\n",
       "</div>"
      ],
      "text/plain": [
       "          x         y\n",
       "x  1.000000  0.820187\n",
       "y  0.820187  1.000000"
      ]
     },
     "execution_count": 5,
     "metadata": {},
     "output_type": "execute_result"
    }
   ],
   "source": [
    "df.corr()"
   ]
  },
  {
   "cell_type": "code",
   "execution_count": 6,
   "id": "3aead03c",
   "metadata": {},
   "outputs": [
    {
     "data": {
      "text/plain": [
       "<AxesSubplot:>"
      ]
     },
     "execution_count": 6,
     "metadata": {},
     "output_type": "execute_result"
    },
    {
     "data": {
      "image/png": "[encoded data removed]",
      "text/plain": [
       "<Figure size 432x288 with 2 Axes>"
      ]
     },
     "metadata": {
      "needs_background": "light"
     },
     "output_type": "display_data"
    }
   ],
   "source": [
    "sns.heatmap(df)"
   ]
  },
  {
   "cell_type": "markdown",
   "id": "ba306dc4",
   "metadata": {},
   "source": [
    "# train test splitting"
   ]
  },
  {
   "cell_type": "code",
   "execution_count": 7,
   "id": "a33f1fdd",
   "metadata": {},
   "outputs": [
    {
     "name": "stdout",
     "output_type": "stream",
     "text": [
      "X_train size (70, 1)\n",
      "X_test size (30, 1)\n",
      "y_train size (70, 1)\n",
      "y_test size (30, 1)\n"
     ]
    }
   ],
   "source": [
    "from sklearn.model_selection import train_test_split\n",
    "X_train,X_test,y_train,y_test=train_test_split(X,y,test_size=0.3,random_state=10)\n",
    "print('X_train size',X_train.shape)\n",
    "print('X_test size',X_test.shape)\n",
    "print('y_train size',y_train.shape)\n",
    "print('y_test size',y_test.shape)"
   ]
  },
  {
   "cell_type": "markdown",
   "id": "9e20a9b3",
   "metadata": {},
   "source": [
    "# Simple linear Regression Model creation"
   ]
  },
  {
   "cell_type": "code",
   "execution_count": 8,
   "id": "b3d58286",
   "metadata": {},
   "outputs": [],
   "source": [
    "from sklearn.linear_model import LinearRegression\n",
    "lr=LinearRegression()\n"
   ]
  },
  {
   "cell_type": "code",
   "execution_count": 9,
   "id": "fad20f4f",
   "metadata": {},
   "outputs": [
    {
     "data": {
      "text/plain": [
       "LinearRegression()"
      ]
     },
     "execution_count": 9,
     "metadata": {},
     "output_type": "execute_result"
    }
   ],
   "source": [
    "lr.fit(X_train,y_train)"
   ]
  },
  {
   "cell_type": "code",
   "execution_count": 10,
   "id": "47726ea8",
   "metadata": {},
   "outputs": [
    {
     "data": {
      "text/plain": [
       "array([[6.74104269],\n",
       "       [1.13520853],\n",
       "       [3.68724338],\n",
       "       [5.89596777],\n",
       "       [2.88492925]])"
      ]
     },
     "execution_count": 10,
     "metadata": {},
     "output_type": "execute_result"
    }
   ],
   "source": [
    "#prediction on test\n",
    "y_pred=lr.predict(X_test)\n",
    "y_pred[:5]"
   ]
  },
  {
   "cell_type": "code",
   "execution_count": 11,
   "id": "02ba946d",
   "metadata": {},
   "outputs": [
    {
     "data": {
      "image/png": "[encoded data removed]",
      "text/plain": [
       "<Figure size 432x288 with 1 Axes>"
      ]
     },
     "metadata": {
      "needs_background": "light"
     },
     "output_type": "display_data"
    }
   ],
   "source": [
    "plt.scatter(X_train,y_train,color='red')\n",
    "plt.plot(X_test,lr.predict(X_test))\n",
    "plt.show()"
   ]
  },
  {
   "cell_type": "markdown",
   "id": "dbb65d70",
   "metadata": {},
   "source": [
    "# Performance metrics"
   ]
  },
  {
   "cell_type": "code",
   "execution_count": 12,
   "id": "ca600d98",
   "metadata": {},
   "outputs": [
    {
     "name": "stdout",
     "output_type": "stream",
     "text": [
      "mae 1.4994134030637445\n",
      "mse 3.8069644852880455\n",
      "rmse 1.951144404007055\n",
      "r2 0.6758833261408406\n"
     ]
    }
   ],
   "source": [
    "from sklearn.metrics import mean_absolute_error,mean_squared_error,r2_score\n",
    "print('mae',mean_absolute_error(y_test,y_pred))\n",
    "mse=mean_squared_error(y_test,y_pred)\n",
    "print('mse',mse)\n",
    "print('rmse',np.sqrt(mse))\n",
    "r2=r2_score(y_test,y_pred)\n",
    "print('r2',r2)"
   ]
  },
  {
   "cell_type": "code",
   "execution_count": 13,
   "id": "f2e52646",
   "metadata": {},
   "outputs": [
    {
     "name": "stdout",
     "output_type": "stream",
     "text": [
      "adjusted r2 :  [0.67844333]\n"
     ]
    }
   ],
   "source": [
    "#adjusted r2\n",
    "n=len(X_train)\n",
    "p=y_test[1]\n",
    "\n",
    "adj_r2= 1-(((1-r2)*(n-1))/(n-p-1))\n",
    "print('adjusted r2 : ',adj_r2)"
   ]
  },
  {
   "cell_type": "markdown",
   "id": "63ee1398",
   "metadata": {},
   "source": [
    "#  For Polinomial Regression"
   ]
  },
  {
   "cell_type": "code",
   "execution_count": 14,
   "id": "3980440b",
   "metadata": {},
   "outputs": [],
   "source": [
    "X = 6 * np.random.rand(100, 1)-3\n",
    "y =0.5 * X**2 + 1.5*X + 2 + np.random.randn(100, 1)\n",
    "# quadratic equation used- y=0.5x^2+1.5x+2+outliers\n"
   ]
  },
  {
   "cell_type": "code",
   "execution_count": 15,
   "id": "8c0f5dde",
   "metadata": {},
   "outputs": [
    {
     "name": "stdout",
     "output_type": "stream",
     "text": [
      "X_train size (70, 1)\n",
      "X_test size (30, 1)\n",
      "y_train size (70, 1)\n",
      "y_test size (30, 1)\n"
     ]
    }
   ],
   "source": [
    "from sklearn.model_selection import train_test_split\n",
    "X_train,X_test,y_train,y_test=train_test_split(X,y,test_size=0.3,random_state=10)\n",
    "print('X_train size',X_train.shape)\n",
    "print('X_test size',X_test.shape)\n",
    "print('y_train size',y_train.shape)\n",
    "print('y_test size',y_test.shape)"
   ]
  },
  {
   "cell_type": "code",
   "execution_count": 16,
   "id": "84c36ce2",
   "metadata": {},
   "outputs": [],
   "source": [
    "from sklearn.preprocessing import PolynomialFeatures \n",
    "poly = PolynomialFeatures(degree=3,include_bias=True)\n",
    "X_train_poly = poly.fit_transform(X_train) \n",
    "X_test_poly = poly.transform(X_test)"
   ]
  },
  {
   "cell_type": "code",
   "execution_count": 17,
   "id": "b11050c6",
   "metadata": {},
   "outputs": [
    {
     "data": {
      "text/plain": [
       "array([[ 1.00000000e+00, -2.17252809e-01,  4.71987830e-02,\n",
       "        -1.02540682e-02],\n",
       "       [ 1.00000000e+00, -1.14385433e+00,  1.30840272e+00,\n",
       "        -1.49662212e+00],\n",
       "       [ 1.00000000e+00, -1.01710351e+00,  1.03449955e+00,\n",
       "        -1.05219312e+00],\n",
       "       [ 1.00000000e+00,  2.40590549e-01,  5.78838123e-02,\n",
       "         1.39262982e-02],\n",
       "       [ 1.00000000e+00,  2.32456582e+00,  5.40360625e+00,\n",
       "         1.25610384e+01],\n",
       "       [ 1.00000000e+00,  5.02710048e-01,  2.52717392e-01,\n",
       "         1.27043573e-01],\n",
       "       [ 1.00000000e+00,  2.96284860e+00,  8.77847184e+00,\n",
       "         2.60092830e+01],\n",
       "       [ 1.00000000e+00, -6.56018337e-01,  4.30360058e-01,\n",
       "        -2.82324090e-01],\n",
       "       [ 1.00000000e+00, -2.53402646e-01,  6.42129008e-02,\n",
       "        -1.62717190e-02],\n",
       "       [ 1.00000000e+00, -2.87733598e+00,  8.27906236e+00,\n",
       "        -2.38216440e+01],\n",
       "       [ 1.00000000e+00,  2.64461732e+00,  6.99400075e+00,\n",
       "         1.84964555e+01],\n",
       "       [ 1.00000000e+00, -4.33324627e-01,  1.87770232e-01,\n",
       "        -8.13654658e-02],\n",
       "       [ 1.00000000e+00, -7.76298850e-01,  6.02639905e-01,\n",
       "        -4.67828665e-01],\n",
       "       [ 1.00000000e+00, -2.99245721e+00,  8.95480018e+00,\n",
       "        -2.67968564e+01],\n",
       "       [ 1.00000000e+00,  2.29704126e+00,  5.27639854e+00,\n",
       "         1.21201051e+01],\n",
       "       [ 1.00000000e+00, -1.72771950e+00,  2.98501466e+00,\n",
       "        -5.15726804e+00],\n",
       "       [ 1.00000000e+00,  1.29155916e+00,  1.66812505e+00,\n",
       "         2.15448219e+00],\n",
       "       [ 1.00000000e+00,  2.64221606e+00,  6.98130570e+00,\n",
       "         1.84461180e+01],\n",
       "       [ 1.00000000e+00,  4.86508822e-01,  2.36690834e-01,\n",
       "         1.15152179e-01],\n",
       "       [ 1.00000000e+00, -3.02595701e-01,  9.15641584e-02,\n",
       "        -2.77069207e-02],\n",
       "       [ 1.00000000e+00,  1.36961448e+00,  1.87584382e+00,\n",
       "         2.56918286e+00],\n",
       "       [ 1.00000000e+00,  1.06322421e+00,  1.13044572e+00,\n",
       "         1.20191726e+00],\n",
       "       [ 1.00000000e+00, -1.85854223e+00,  3.45417920e+00,\n",
       "        -6.41973790e+00],\n",
       "       [ 1.00000000e+00,  1.60053595e+00,  2.56171531e+00,\n",
       "         4.10011744e+00],\n",
       "       [ 1.00000000e+00,  9.39429204e-01,  8.82527229e-01,\n",
       "         8.29071853e-01],\n",
       "       [ 1.00000000e+00,  2.75522835e+00,  7.59128324e+00,\n",
       "         2.09157188e+01],\n",
       "       [ 1.00000000e+00,  1.83979114e+00,  3.38483143e+00,\n",
       "         6.22738287e+00],\n",
       "       [ 1.00000000e+00,  2.92715494e-01,  8.56823604e-02,\n",
       "         2.50805544e-02],\n",
       "       [ 1.00000000e+00, -4.93611046e-01,  2.43651865e-01,\n",
       "        -1.20269252e-01],\n",
       "       [ 1.00000000e+00,  2.82507025e+00,  7.98102192e+00,\n",
       "         2.25469476e+01],\n",
       "       [ 1.00000000e+00, -1.30581785e+00,  1.70516027e+00,\n",
       "        -2.22662872e+00],\n",
       "       [ 1.00000000e+00, -2.20002492e+00,  4.84010963e+00,\n",
       "        -1.06483618e+01],\n",
       "       [ 1.00000000e+00, -2.21632815e+00,  4.91211046e+00,\n",
       "        -1.08868487e+01],\n",
       "       [ 1.00000000e+00,  1.26869835e+00,  1.60959550e+00,\n",
       "         2.04209115e+00],\n",
       "       [ 1.00000000e+00, -2.70884374e+00,  7.33783443e+00,\n",
       "        -1.98770469e+01],\n",
       "       [ 1.00000000e+00,  1.88831061e+00,  3.56571695e+00,\n",
       "         6.73318113e+00],\n",
       "       [ 1.00000000e+00,  2.10783339e+00,  4.44296158e+00,\n",
       "         9.36502275e+00],\n",
       "       [ 1.00000000e+00,  2.27701630e-01,  5.18480322e-02,\n",
       "         1.18058814e-02],\n",
       "       [ 1.00000000e+00, -1.46038100e+00,  2.13271268e+00,\n",
       "        -3.11457308e+00],\n",
       "       [ 1.00000000e+00,  2.86350995e+00,  8.19968922e+00,\n",
       "         2.34798916e+01],\n",
       "       [ 1.00000000e+00, -1.44484631e+00,  2.08758086e+00,\n",
       "        -3.01623351e+00],\n",
       "       [ 1.00000000e+00,  2.44190517e+00,  5.96290084e+00,\n",
       "         1.45608384e+01],\n",
       "       [ 1.00000000e+00,  2.44708162e+00,  5.98820847e+00,\n",
       "         1.46536349e+01],\n",
       "       [ 1.00000000e+00, -1.79072815e+00,  3.20670731e+00,\n",
       "        -5.74234106e+00],\n",
       "       [ 1.00000000e+00, -2.48914764e+00,  6.19585598e+00,\n",
       "        -1.54224003e+01],\n",
       "       [ 1.00000000e+00, -1.33355539e+00,  1.77836997e+00,\n",
       "        -2.37155486e+00],\n",
       "       [ 1.00000000e+00, -1.48137038e+00,  2.19445820e+00,\n",
       "        -3.25080538e+00],\n",
       "       [ 1.00000000e+00, -1.89204061e+00,  3.57981766e+00,\n",
       "        -6.77316039e+00],\n",
       "       [ 1.00000000e+00,  2.33096034e+00,  5.43337609e+00,\n",
       "         1.26649841e+01],\n",
       "       [ 1.00000000e+00,  2.08030462e+00,  4.32766730e+00,\n",
       "         9.00286625e+00],\n",
       "       [ 1.00000000e+00,  9.41858139e-01,  8.87096754e-01,\n",
       "         8.35519298e-01],\n",
       "       [ 1.00000000e+00, -4.25570427e-01,  1.81110188e-01,\n",
       "        -7.70751401e-02],\n",
       "       [ 1.00000000e+00, -1.90791150e+00,  3.64012628e+00,\n",
       "        -6.94503877e+00],\n",
       "       [ 1.00000000e+00,  1.51996076e+00,  2.31028070e+00,\n",
       "         3.51153600e+00],\n",
       "       [ 1.00000000e+00, -1.06728003e+00,  1.13908665e+00,\n",
       "        -1.21572443e+00],\n",
       "       [ 1.00000000e+00, -2.18658127e+00,  4.78113766e+00,\n",
       "        -1.04543461e+01],\n",
       "       [ 1.00000000e+00,  3.15987386e-01,  9.98480283e-02,\n",
       "         3.15507175e-02],\n",
       "       [ 1.00000000e+00, -2.31134019e+00,  5.34229345e+00,\n",
       "        -1.23478575e+01],\n",
       "       [ 1.00000000e+00, -1.03258295e+00,  1.06622756e+00,\n",
       "        -1.10096840e+00],\n",
       "       [ 1.00000000e+00, -2.49225163e+00,  6.21131816e+00,\n",
       "        -1.54801678e+01],\n",
       "       [ 1.00000000e+00,  2.41155542e+00,  5.81559954e+00,\n",
       "         1.40246406e+01],\n",
       "       [ 1.00000000e+00, -2.40829619e+00,  5.79989056e+00,\n",
       "        -1.39678544e+01],\n",
       "       [ 1.00000000e+00, -3.19667522e-01,  1.02187325e-01,\n",
       "        -3.26659688e-02],\n",
       "       [ 1.00000000e+00, -1.86038277e+00,  3.46102407e+00,\n",
       "        -6.43882955e+00],\n",
       "       [ 1.00000000e+00, -2.25818441e+00,  5.09939682e+00,\n",
       "        -1.15153784e+01],\n",
       "       [ 1.00000000e+00,  1.93434716e+00,  3.74169894e+00,\n",
       "         7.23774471e+00],\n",
       "       [ 1.00000000e+00, -2.51923922e+00,  6.34656625e+00,\n",
       "        -1.59885186e+01],\n",
       "       [ 1.00000000e+00,  1.50009322e+00,  2.25027967e+00,\n",
       "         3.37562927e+00],\n",
       "       [ 1.00000000e+00,  4.26875659e-01,  1.82222828e-01,\n",
       "         7.77864896e-02],\n",
       "       [ 1.00000000e+00,  1.08056847e+00,  1.16762822e+00,\n",
       "         1.26170224e+00]])"
      ]
     },
     "execution_count": 17,
     "metadata": {},
     "output_type": "execute_result"
    }
   ],
   "source": [
    "X_train_poly"
   ]
  },
  {
   "cell_type": "code",
   "execution_count": 18,
   "id": "6851ef6d",
   "metadata": {},
   "outputs": [],
   "source": [
    "from sklearn.linear_model import LinearRegression\n",
    "lr1=LinearRegression()\n"
   ]
  },
  {
   "cell_type": "code",
   "execution_count": 19,
   "id": "d250fc29",
   "metadata": {},
   "outputs": [
    {
     "data": {
      "text/plain": [
       "LinearRegression()"
      ]
     },
     "execution_count": 19,
     "metadata": {},
     "output_type": "execute_result"
    }
   ],
   "source": [
    "lr1.fit(X_train_poly,y_train)"
   ]
  },
  {
   "cell_type": "code",
   "execution_count": 20,
   "id": "0cfb1fab",
   "metadata": {
    "scrolled": true
   },
   "outputs": [
    {
     "data": {
      "text/plain": [
       "array([[ 0.99950895],\n",
       "       [ 0.68592535],\n",
       "       [ 0.78354047],\n",
       "       [ 7.85313295],\n",
       "       [10.69602447],\n",
       "       [ 1.97990628],\n",
       "       [ 1.65735219],\n",
       "       [ 1.21155365],\n",
       "       [ 3.48489262],\n",
       "       [ 5.76050896],\n",
       "       [10.88454038],\n",
       "       [ 0.67310078],\n",
       "       [ 4.95743713],\n",
       "       [ 2.49420204],\n",
       "       [ 9.52451068],\n",
       "       [ 6.61178863],\n",
       "       [ 0.90442115],\n",
       "       [ 1.0012965 ],\n",
       "       [ 2.97749368],\n",
       "       [ 4.67552518],\n",
       "       [ 0.66314005],\n",
       "       [ 8.7296487 ],\n",
       "       [ 1.97561992],\n",
       "       [ 0.79061514],\n",
       "       [ 0.67161729],\n",
       "       [ 4.99145349],\n",
       "       [ 1.23817248],\n",
       "       [10.27073714],\n",
       "       [ 3.14402187],\n",
       "       [ 1.51891673]])"
      ]
     },
     "execution_count": 20,
     "metadata": {},
     "output_type": "execute_result"
    }
   ],
   "source": [
    "#prediction on test\n",
    "y_pred_poly=lr1.predict(X_test_poly)\n",
    "y_pred_poly"
   ]
  },
  {
   "cell_type": "code",
   "execution_count": 21,
   "id": "c473367f",
   "metadata": {
    "scrolled": true
   },
   "outputs": [
    {
     "name": "stdout",
     "output_type": "stream",
     "text": [
      "mae 0.687605483213985\n",
      "mse 0.7249257349239097\n",
      "rmse 0.8514257072251868\n",
      "r2 0.9342941720023428\n"
     ]
    }
   ],
   "source": [
    "from sklearn.metrics import mean_absolute_error, mean_squared_error, r2_score\n",
    "\n",
    "print('mae', mean_absolute_error(y_test, y_pred_poly))\n",
    "mse = mean_squared_error(y_test, y_pred_poly)\n",
    "print('mse', mse)\n",
    "print('rmse', np.sqrt(mse))\n",
    "r2 = r2_score(y_test, y_pred_poly)\n",
    "print('r2', r2)\n"
   ]
  },
  {
   "cell_type": "code",
   "execution_count": 22,
   "id": "3934f7b9",
   "metadata": {},
   "outputs": [
    {
     "name": "stdout",
     "output_type": "stream",
     "text": [
      "adjusted r2 :  [0.93419918]\n"
     ]
    }
   ],
   "source": [
    "#adjusted r2\n",
    "n=len(X_train)\n",
    "p=y_test[1]\n",
    "\n",
    "adj_r2= 1-(((1-r2)*(n-1))/(n-p-1))\n",
    "print('adjusted r2 : ',adj_r2)"
   ]
  },
  {
   "cell_type": "code",
   "execution_count": 23,
   "id": "70b68757",
   "metadata": {
    "scrolled": false
   },
   "outputs": [
    {
     "data": {
      "text/plain": [
       "[<matplotlib.lines.Line2D at 0x217db78d910>]"
      ]
     },
     "execution_count": 23,
     "metadata": {},
     "output_type": "execute_result"
    },
    {
     "data": {
      "image/png": "[encoded data removed]",
      "text/plain": [
       "<Figure size 432x288 with 1 Axes>"
      ]
     },
     "metadata": {
      "needs_background": "light"
     },
     "output_type": "display_data"
    }
   ],
   "source": [
    "sns.scatterplot(x=X_train.flatten(), y=y_train.flatten(), color='blue', alpha=0.5, label='Training Data')\n",
    "plt.scatter(X_test.flatten(), y_test.flatten(), color='red', label='Test Data')\n",
    "predicted_x = np.linspace(X_test.min(), X_test.max(), 100)[:, np.newaxis]  # Create a range of x values for the plot\n",
    "predicted_y = lr1.predict(poly.transform(predicted_x))\n",
    "plt.plot(predicted_x, predicted_y, color='green', label='Predicted Fit')\n"
   ]
  },
  {
   "cell_type": "code",
   "execution_count": null,
   "id": "5c81b713",
   "metadata": {},
   "outputs": [],
   "source": []
  },
  {
   "cell_type": "markdown",
   "id": "732b8c6c",
   "metadata": {},
   "source": [
    "# Pipeline in  Polynomial regression"
   ]
  },
  {
   "cell_type": "code",
   "execution_count": 44,
   "id": "7341a702",
   "metadata": {
    "scrolled": true
   },
   "outputs": [
    {
     "data": {
      "text/html": [
       "<div>\n",
       "<style scoped>\n",
       "    .dataframe tbody tr th:only-of-type {\n",
       "        vertical-align: middle;\n",
       "    }\n",
       "\n",
       "    .dataframe tbody tr th {\n",
       "        vertical-align: top;\n",
       "    }\n",
       "\n",
       "    .dataframe thead th {\n",
       "        text-align: right;\n",
       "    }\n",
       "</style>\n",
       "<table border=\"1\" class=\"dataframe\">\n",
       "  <thead>\n",
       "    <tr style=\"text-align: right;\">\n",
       "      <th></th>\n",
       "      <th>x</th>\n",
       "      <th>y</th>\n",
       "    </tr>\n",
       "  </thead>\n",
       "  <tbody>\n",
       "    <tr>\n",
       "      <th>0</th>\n",
       "      <td>3.107546</td>\n",
       "      <td>-8.121180</td>\n",
       "    </tr>\n",
       "    <tr>\n",
       "      <th>1</th>\n",
       "      <td>2.718138</td>\n",
       "      <td>-0.042844</td>\n",
       "    </tr>\n",
       "    <tr>\n",
       "      <th>2</th>\n",
       "      <td>-1.298979</td>\n",
       "      <td>-9.124076</td>\n",
       "    </tr>\n",
       "    <tr>\n",
       "      <th>3</th>\n",
       "      <td>0.034209</td>\n",
       "      <td>-5.008646</td>\n",
       "    </tr>\n",
       "    <tr>\n",
       "      <th>4</th>\n",
       "      <td>0.079605</td>\n",
       "      <td>-0.933667</td>\n",
       "    </tr>\n",
       "  </tbody>\n",
       "</table>\n",
       "</div>"
      ],
      "text/plain": [
       "          x         y\n",
       "0  3.107546 -8.121180\n",
       "1  2.718138 -0.042844\n",
       "2 -1.298979 -9.124076\n",
       "3  0.034209 -5.008646\n",
       "4  0.079605 -0.933667"
      ]
     },
     "execution_count": 44,
     "metadata": {},
     "output_type": "execute_result"
    }
   ],
   "source": [
    "\n",
    "X=2-3*np.random.normal(0,1,100)\n",
    "y = X - 2 * (X ** 2) + 0.5 * (X ** 3) + np.random.normal(-3, 3, 100)\n",
    "df=pd.DataFrame({'x':X.flatten(),'y':y.flatten()})\n",
    "df.head()"
   ]
  },
  {
   "cell_type": "code",
   "execution_count": 45,
   "id": "31ddae5c",
   "metadata": {},
   "outputs": [
    {
     "data": {
      "text/plain": [
       "<seaborn.axisgrid.PairGrid at 0x217df2b6c40>"
      ]
     },
     "execution_count": 45,
     "metadata": {},
     "output_type": "execute_result"
    },
    {
     "data": {
      "image/png": "[encoded data removed]",
      "text/plain": [
       "<Figure size 360x360 with 6 Axes>"
      ]
     },
     "metadata": {
      "needs_background": "light"
     },
     "output_type": "display_data"
    }
   ],
   "source": [
    "sns.pairplot(df)"
   ]
  },
  {
   "cell_type": "code",
   "execution_count": 112,
   "id": "c80271d8",
   "metadata": {},
   "outputs": [
    {
     "data": {
      "image/png": "[encoded data removed]",
      "text/plain": [
       "<Figure size 432x288 with 1 Axes>"
      ]
     },
     "metadata": {
      "needs_background": "light"
     },
     "output_type": "display_data"
    }
   ],
   "source": [
    "import numpy as np\n",
    "import matplotlib.pyplot as plt\n",
    "from sklearn.model_selection import train_test_split\n",
    "from sklearn.linear_model import LinearRegression\n",
    "from sklearn.preprocessing import PolynomialFeatures\n",
    "from sklearn.pipeline import Pipeline\n",
    "\n",
    "# Generate sample data\n",
    "np.random.seed(0)\n",
    "X = 2 - 3 * np.random.normal(0, 1, 100)\n",
    "y = X - 2 * (X ** 2) + 0.5 * (X ** 3) + np.random.normal(-3, 3, 100)\n",
    "X = X[:, np.newaxis]\n",
    "y = y[:, np.newaxis]\n",
    "\n",
    "def pipeline_regression(degree):\n",
    "    # Generate new X values for prediction\n",
    "    X_new = np.linspace(X.min(), X.max(), 100).reshape(-1, 1)\n",
    "    \n",
    "    # Split the data into training and testing sets\n",
    "    X_train, X_test, y_train, y_test = train_test_split(X, y, test_size=0.3, random_state=10)\n",
    "    \n",
    "    # Define polynomial features and linear regression pipeline\n",
    "    poly_features = PolynomialFeatures(degree=degree, include_bias=True)\n",
    "    lr = LinearRegression()\n",
    "    linearpipeline = Pipeline([\n",
    "        ('features', poly_features),\n",
    "        ('linearregression', lr)\n",
    "    ])\n",
    "    \n",
    "    # Fit the model\n",
    "    linearpipeline.fit(X_train, y_train)\n",
    "    \n",
    "    # Predict using the pipeline\n",
    "    y_pred = linearpipeline.predict(X_new)\n",
    "    \n",
    "    # Plotting\n",
    "    plt.plot(X_new, y_pred, 'r', label=\"Degree \" + str(degree), linewidth=2)\n",
    "    plt.scatter(X_train, y_train, color='b', label='Training data')\n",
    "    plt.scatter(X_test, y_test, color='g', label='Test data')\n",
    "    plt.legend(loc=\"upper left\")\n",
    "    plt.xlabel(\"X\")\n",
    "    plt.ylabel(\"y\")\n",
    "    plt.axis([X.min() - 1, X.max() + 1, y.min() - 1, y.max() + 1])\n",
    "    plt.show()\n",
    "\n",
    "# Example usage\n",
    "pipeline_regression(degree=3)\n"
   ]
  },
  {
   "cell_type": "code",
   "execution_count": 128,
   "id": "18107f57",
   "metadata": {},
   "outputs": [
    {
     "data": {
      "image/png": "[encoded data removed]",
      "text/plain": [
       "<Figure size 432x288 with 1 Axes>"
      ]
     },
     "metadata": {
      "needs_background": "light"
     },
     "output_type": "display_data"
    }
   ],
   "source": [
    "def poly_pipeline(degree):\n",
    "    X=2-3*np.random.normal(-1,1,100)[:,np.newaxis]\n",
    "    y= 2 - 3* (X**2)+ 0.5 *(X**3) + np.random.normal(-3,3,100)[:,np.newaxis]\n",
    "    X_new=np.linspace(X.min(),X.max(),100 ).reshape(-1,1)\n",
    "    X_train,X_test,y_train,y_test=train_test_split(X,y,test_size=0.2,random_state=10)\n",
    "    polynomial_features=PolynomialFeatures(degree=degree)\n",
    "    lr=LinearRegression()\n",
    "    \n",
    "    linear_pipeline=Pipeline([\n",
    "        ('polyfeatures',polynomial_features),\n",
    "        ('linear_regression',lr)\n",
    "    ])\n",
    "    \n",
    "    linear_pipeline.fit(X_train,y_train)\n",
    "    y_pred=linear_pipeline.predict(X_new)\n",
    "    \n",
    "    \n",
    "    #plotting\n",
    "    plt.plot(X_new,y_pred,label='Degree'+str(degree),color='red')\n",
    "    plt.scatter(X_train,y_train,label='train',color='g')\n",
    "    plt.scatter(X_test,y_test,label='test',color='y')\n",
    "    plt.show()\n",
    "    \n",
    "poly_pipeline(4)"
   ]
  },
  {
   "cell_type": "code",
   "execution_count": null,
   "id": "88f4b42d",
   "metadata": {},
   "outputs": [],
   "source": []
  }
 ],
 "metadata": {
  "kernelspec": {
   "display_name": "Python 3 (ipykernel)",
   "language": "python",
   "name": "python3"
  },
  "language_info": {
   "codemirror_mode": {
    "name": "ipython",
    "version": 3
   },
   "file_extension": ".py",
   "mimetype": "text/x-python",
   "name": "python",
   "nbconvert_exporter": "python",
   "pygments_lexer": "ipython3",
   "version": "3.9.12"
  }
 },
 "nbformat": 4,
 "nbformat_minor": 5
}
