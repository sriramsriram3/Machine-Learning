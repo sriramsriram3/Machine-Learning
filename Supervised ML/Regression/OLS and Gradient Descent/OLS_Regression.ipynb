{
  "nbformat": 4,
  "nbformat_minor": 0,
  "metadata": {
    "colab": {
      "provenance": []
    },
    "kernelspec": {
      "name": "python3",
      "display_name": "Python 3"
    },
    "language_info": {
      "name": "python"
    }
  },
  "cells": [
    {
      "cell_type": "code",
      "execution_count": null,
      "metadata": {
        "id": "cJKhoYNchMjY"
      },
      "outputs": [],
      "source": [
        "import statsmodels.api as sm"
      ]
    },
    {
      "cell_type": "code",
      "source": [
        "import pandas as pd\n",
        "\n",
        "#create DataFrame\n",
        "df = pd.DataFrame({'hours': [1, 2, 4, 5, 5, 6, 6, 7, 8, 10, 11, 11, 12, 12, 14],\n",
        "                   'score': [64, 66, 76, 73, 74, 81, 83, 82, 80, 88, 84, 82, 91, 93, 89]})\n",
        "\n",
        "#view DataFrame\n",
        "print(df)"
      ],
      "metadata": {
        "colab": {
          "base_uri": "https://localhost:8080/"
        },
        "id": "1RN5U-SDhk2K",
        "outputId": "de494439-313a-46eb-e2c7-3caf431a9b83"
      },
      "execution_count": null,
      "outputs": [
        {
          "output_type": "stream",
          "name": "stdout",
          "text": [
            "    hours  score\n",
            "0       1     64\n",
            "1       2     66\n",
            "2       4     76\n",
            "3       5     73\n",
            "4       5     74\n",
            "5       6     81\n",
            "6       6     83\n",
            "7       7     82\n",
            "8       8     80\n",
            "9      10     88\n",
            "10     11     84\n",
            "11     11     82\n",
            "12     12     91\n",
            "13     12     93\n",
            "14     14     89\n"
          ]
        }
      ]
    },
    {
      "cell_type": "code",
      "source": [
        "X=df['hours']\n",
        "y=df['score']"
      ],
      "metadata": {
        "id": "efWbnh_4h4df"
      },
      "execution_count": null,
      "outputs": []
    },
    {
      "cell_type": "code",
      "source": [
        "x = sm.add_constant(X)\n",
        "\n",
        "#fit linear regression model\n",
        "model = sm.OLS(y, X).fit()\n",
        "\n",
        "#view model summary\n",
        "print(model.summary())"
      ],
      "metadata": {
        "colab": {
          "base_uri": "https://localhost:8080/"
        },
        "id": "G5Iw-hA5h_5N",
        "outputId": "ba74d745-3573-4cb8-fee5-081a939a8bcf"
      },
      "execution_count": null,
      "outputs": [
        {
          "output_type": "stream",
          "name": "stdout",
          "text": [
            "                                 OLS Regression Results                                \n",
            "=======================================================================================\n",
            "Dep. Variable:                  score   R-squared (uncentered):                   0.868\n",
            "Model:                            OLS   Adj. R-squared (uncentered):              0.859\n",
            "Method:                 Least Squares   F-statistic:                              92.09\n",
            "Date:                Sat, 17 Aug 2024   Prob (F-statistic):                    1.55e-07\n",
            "Time:                        18:10:50   Log-Likelihood:                         -71.979\n",
            "No. Observations:                  15   AIC:                                      146.0\n",
            "Df Residuals:                      14   BIC:                                      146.7\n",
            "Df Model:                           1                                                  \n",
            "Covariance Type:            nonrobust                                                  \n",
            "==============================================================================\n",
            "                 coef    std err          t      P>|t|      [0.025      0.975]\n",
            "------------------------------------------------------------------------------\n",
            "hours          8.8660      0.924      9.596      0.000       6.884      10.848\n",
            "==============================================================================\n",
            "Omnibus:                        1.618   Durbin-Watson:                   0.094\n",
            "Prob(Omnibus):                  0.445   Jarque-Bera (JB):                0.899\n",
            "Skew:                          -0.152   Prob(JB):                        0.638\n",
            "Kurtosis:                       1.840   Cond. No.                         1.00\n",
            "==============================================================================\n",
            "\n",
            "Notes:\n",
            "[1] R² is computed without centering (uncentered) since the model does not contain a constant.\n",
            "[2] Standard Errors assume that the covariance matrix of the errors is correctly specified.\n"
          ]
        },
        {
          "output_type": "stream",
          "name": "stderr",
          "text": [
            "/usr/local/lib/python3.10/dist-packages/scipy/stats/_axis_nan_policy.py:531: UserWarning: kurtosistest only valid for n>=20 ... continuing anyway, n=15\n",
            "  res = hypotest_fun_out(*samples, **kwds)\n"
          ]
        }
      ]
    },
    {
      "cell_type": "code",
      "source": [],
      "metadata": {
        "id": "iAz5SPL5iLlJ"
      },
      "execution_count": null,
      "outputs": []
    }
  ]
}